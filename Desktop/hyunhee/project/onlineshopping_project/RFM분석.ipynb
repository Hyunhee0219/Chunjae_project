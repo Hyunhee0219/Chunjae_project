{
 "cells": [
  {
   "cell_type": "code",
   "execution_count": 257,
   "id": "6b7f0e6f-5d2f-4c20-8456-0bc9267f9ce7",
   "metadata": {
    "id": "6b7f0e6f-5d2f-4c20-8456-0bc9267f9ce7"
   },
   "outputs": [],
   "source": [
    "import pandas as pd\n",
    "import numpy as np\n",
    "import seaborn as sns\n",
    "import matplotlib.pyplot as plt\n",
    "import matplotlib as mpl\n",
    "import plotly.express as px\n",
    "from sklearn.preprocessing import MinMaxScaler\n",
    "from sklearn.preprocessing import StandardScaler\n",
    "from scipy import stats\n",
    "import matplotlib.font_manager as fm\n",
    "[f.name for f in fm.fontManager.ttflist]\n",
    "plt.rc('font', family ='Malgun Gothic')\n",
    "mpl.rcParams['axes.unicode_minus'] = False\n",
    "from statannot import add_stat_annotation\n",
    "import plotly.express as px\n",
    "import statsmodels.api as sm\n",
    "from scipy.stats import chi2_contingency\n",
    "import datetime as dt"
   ]
  },
  {
   "cell_type": "code",
   "execution_count": 258,
   "id": "f618813d-4e8a-4aae-a47a-aa992aa3f590",
   "metadata": {
    "id": "f618813d-4e8a-4aae-a47a-aa992aa3f590"
   },
   "outputs": [],
   "source": [
    "#파일을 불러옵니다.\n",
    "p = pd.read_excel('../../Downloads/(반출금지) 미니프로젝트-쇼핑몰 실습데이터.xlsx')"
   ]
  },
  {
   "cell_type": "code",
   "execution_count": 259,
   "id": "120171a7-e1f8-402f-81e6-4c993fcb8b5b",
   "metadata": {
    "colab": {
     "base_uri": "https://localhost:8080/",
     "height": 615
    },
    "id": "120171a7-e1f8-402f-81e6-4c993fcb8b5b",
    "outputId": "9b99bac7-dc72-4225-e837-af1fe87a8b14"
   },
   "outputs": [
    {
     "data": {
      "text/html": [
       "<div>\n",
       "<style scoped>\n",
       "    .dataframe tbody tr th:only-of-type {\n",
       "        vertical-align: middle;\n",
       "    }\n",
       "\n",
       "    .dataframe tbody tr th {\n",
       "        vertical-align: top;\n",
       "    }\n",
       "\n",
       "    .dataframe thead th {\n",
       "        text-align: right;\n",
       "    }\n",
       "</style>\n",
       "<table border=\"1\" class=\"dataframe\">\n",
       "  <thead>\n",
       "    <tr style=\"text-align: right;\">\n",
       "      <th></th>\n",
       "      <th>주문번호</th>\n",
       "      <th>업체명</th>\n",
       "      <th>상품명</th>\n",
       "      <th>제조사</th>\n",
       "      <th>주문수량</th>\n",
       "      <th>판매금액</th>\n",
       "      <th>결제방법</th>\n",
       "      <th>주문일자</th>\n",
       "      <th>처리상태</th>\n",
       "      <th>초도상품</th>\n",
       "      <th>제작문구 내역</th>\n",
       "      <th>할부기간</th>\n",
       "    </tr>\n",
       "  </thead>\n",
       "  <tbody>\n",
       "    <tr>\n",
       "      <th>0</th>\n",
       "      <td>191213170236874</td>\n",
       "      <td>지니</td>\n",
       "      <td>eHBM셀파수학교실 비닐봉투-1세트 100장입</td>\n",
       "      <td>HB</td>\n",
       "      <td>1</td>\n",
       "      <td>5000</td>\n",
       "      <td>신용카드</td>\n",
       "      <td>2019-12-13 17:03:37</td>\n",
       "      <td>구매확정</td>\n",
       "      <td>N</td>\n",
       "      <td>NaN</td>\n",
       "      <td>NaN</td>\n",
       "    </tr>\n",
       "    <tr>\n",
       "      <th>1</th>\n",
       "      <td>191216100347429</td>\n",
       "      <td>지니</td>\n",
       "      <td>eHBM셀파수학교실 비닐봉투-1세트 100장입</td>\n",
       "      <td>HB</td>\n",
       "      <td>1</td>\n",
       "      <td>5000</td>\n",
       "      <td>신용카드</td>\n",
       "      <td>2019-12-16 10:04:50</td>\n",
       "      <td>구매확정</td>\n",
       "      <td>N</td>\n",
       "      <td>NaN</td>\n",
       "      <td>NaN</td>\n",
       "    </tr>\n",
       "    <tr>\n",
       "      <th>2</th>\n",
       "      <td>191216100347429</td>\n",
       "      <td>지니</td>\n",
       "      <td>eHBM셀파수학교실 삼색볼펜-1세트 50개입</td>\n",
       "      <td>HB</td>\n",
       "      <td>3</td>\n",
       "      <td>67500</td>\n",
       "      <td>신용카드</td>\n",
       "      <td>2019-12-16 10:04:50</td>\n",
       "      <td>구매확정</td>\n",
       "      <td>N</td>\n",
       "      <td>NaN</td>\n",
       "      <td>NaN</td>\n",
       "    </tr>\n",
       "    <tr>\n",
       "      <th>3</th>\n",
       "      <td>191216173241622</td>\n",
       "      <td>지니</td>\n",
       "      <td>eHBM셀파수학교실 회원용 리플렛-1세트 50권입</td>\n",
       "      <td>HB</td>\n",
       "      <td>2</td>\n",
       "      <td>30000</td>\n",
       "      <td>신용카드</td>\n",
       "      <td>2019-12-16 17:33:43</td>\n",
       "      <td>구매확정</td>\n",
       "      <td>N</td>\n",
       "      <td>NaN</td>\n",
       "      <td>NaN</td>\n",
       "    </tr>\n",
       "    <tr>\n",
       "      <th>4</th>\n",
       "      <td>191216173241622</td>\n",
       "      <td>지니</td>\n",
       "      <td>eHBM셀파수학교실-학습계통도(중등 5종)</td>\n",
       "      <td>HB</td>\n",
       "      <td>1</td>\n",
       "      <td>750</td>\n",
       "      <td>신용카드</td>\n",
       "      <td>2019-12-16 17:33:43</td>\n",
       "      <td>구매확정</td>\n",
       "      <td>N</td>\n",
       "      <td>NaN</td>\n",
       "      <td>NaN</td>\n",
       "    </tr>\n",
       "    <tr>\n",
       "      <th>...</th>\n",
       "      <td>...</td>\n",
       "      <td>...</td>\n",
       "      <td>...</td>\n",
       "      <td>...</td>\n",
       "      <td>...</td>\n",
       "      <td>...</td>\n",
       "      <td>...</td>\n",
       "      <td>...</td>\n",
       "      <td>...</td>\n",
       "      <td>...</td>\n",
       "      <td>...</td>\n",
       "      <td>...</td>\n",
       "    </tr>\n",
       "    <tr>\n",
       "      <th>218596</th>\n",
       "      <td>221108104041264</td>\n",
       "      <td>에이스디포</td>\n",
       "      <td>[스마트 HBE*초도] 입체 액자형 현판</td>\n",
       "      <td>에이스디포</td>\n",
       "      <td>1</td>\n",
       "      <td>35000</td>\n",
       "      <td>웰컴마일</td>\n",
       "      <td>2022-11-08 10:38:21</td>\n",
       "      <td>결제완료</td>\n",
       "      <td>Y</td>\n",
       "      <td>NaN</td>\n",
       "      <td>NaN</td>\n",
       "    </tr>\n",
       "    <tr>\n",
       "      <th>218597</th>\n",
       "      <td>221108104041264</td>\n",
       "      <td>에이스디포</td>\n",
       "      <td>[스마트 HBE*초도] 아크릴 사인</td>\n",
       "      <td>HB</td>\n",
       "      <td>1</td>\n",
       "      <td>26900</td>\n",
       "      <td>웰컴마일</td>\n",
       "      <td>2022-11-08 10:38:21</td>\n",
       "      <td>결제완료</td>\n",
       "      <td>Y</td>\n",
       "      <td>NaN</td>\n",
       "      <td>NaN</td>\n",
       "    </tr>\n",
       "    <tr>\n",
       "      <th>218598</th>\n",
       "      <td>221108104536307</td>\n",
       "      <td>에이스디포</td>\n",
       "      <td>[스마트 HBM] 아크릴 사인</td>\n",
       "      <td>HB</td>\n",
       "      <td>1</td>\n",
       "      <td>26900</td>\n",
       "      <td>신 + 포</td>\n",
       "      <td>2022-11-08 10:43:15</td>\n",
       "      <td>배송준비</td>\n",
       "      <td>N</td>\n",
       "      <td>NaN</td>\n",
       "      <td>NaN</td>\n",
       "    </tr>\n",
       "    <tr>\n",
       "      <th>218599</th>\n",
       "      <td>221108104735216</td>\n",
       "      <td>다우기술</td>\n",
       "      <td>[스타벅스] 아이스 카페 아메리카노 T</td>\n",
       "      <td>스타벅스</td>\n",
       "      <td>1</td>\n",
       "      <td>4050</td>\n",
       "      <td>포인트</td>\n",
       "      <td>2022-11-08 10:45:14</td>\n",
       "      <td>배송완료</td>\n",
       "      <td>N</td>\n",
       "      <td>NaN</td>\n",
       "      <td>NaN</td>\n",
       "    </tr>\n",
       "    <tr>\n",
       "      <th>218600</th>\n",
       "      <td>221108105148171</td>\n",
       "      <td>다우기술</td>\n",
       "      <td>[특별한 크리스마스] 2차-신세계 상품권 모바일 교환권-1만원권</td>\n",
       "      <td>신세계</td>\n",
       "      <td>17</td>\n",
       "      <td>161500</td>\n",
       "      <td>신용카드</td>\n",
       "      <td>2022-11-08 10:49:28</td>\n",
       "      <td>배송완료</td>\n",
       "      <td>N</td>\n",
       "      <td>NaN</td>\n",
       "      <td>NaN</td>\n",
       "    </tr>\n",
       "  </tbody>\n",
       "</table>\n",
       "<p>218601 rows × 12 columns</p>\n",
       "</div>"
      ],
      "text/plain": [
       "                   주문번호    업체명                                  상품명    제조사  \\\n",
       "0       191213170236874     지니            eHBM셀파수학교실 비닐봉투-1세트 100장입     HB   \n",
       "1       191216100347429     지니            eHBM셀파수학교실 비닐봉투-1세트 100장입     HB   \n",
       "2       191216100347429     지니             eHBM셀파수학교실 삼색볼펜-1세트 50개입     HB   \n",
       "3       191216173241622     지니          eHBM셀파수학교실 회원용 리플렛-1세트 50권입     HB   \n",
       "4       191216173241622     지니              eHBM셀파수학교실-학습계통도(중등 5종)     HB   \n",
       "...                 ...    ...                                  ...    ...   \n",
       "218596  221108104041264  에이스디포               [스마트 HBE*초도] 입체 액자형 현판  에이스디포   \n",
       "218597  221108104041264  에이스디포                  [스마트 HBE*초도] 아크릴 사인     HB   \n",
       "218598  221108104536307  에이스디포                     [스마트 HBM] 아크릴 사인     HB   \n",
       "218599  221108104735216   다우기술                [스타벅스] 아이스 카페 아메리카노 T   스타벅스   \n",
       "218600  221108105148171   다우기술  [특별한 크리스마스] 2차-신세계 상품권 모바일 교환권-1만원권    신세계   \n",
       "\n",
       "        주문수량    판매금액   결제방법                주문일자  처리상태 초도상품 제작문구 내역 할부기간  \n",
       "0          1    5000   신용카드 2019-12-13 17:03:37  구매확정    N     NaN  NaN  \n",
       "1          1    5000   신용카드 2019-12-16 10:04:50  구매확정    N     NaN  NaN  \n",
       "2          3   67500   신용카드 2019-12-16 10:04:50  구매확정    N     NaN  NaN  \n",
       "3          2   30000   신용카드 2019-12-16 17:33:43  구매확정    N     NaN  NaN  \n",
       "4          1     750   신용카드 2019-12-16 17:33:43  구매확정    N     NaN  NaN  \n",
       "...      ...     ...    ...                 ...   ...  ...     ...  ...  \n",
       "218596     1   35000   웰컴마일 2022-11-08 10:38:21  결제완료    Y     NaN  NaN  \n",
       "218597     1   26900   웰컴마일 2022-11-08 10:38:21  결제완료    Y     NaN  NaN  \n",
       "218598     1   26900  신 + 포 2022-11-08 10:43:15  배송준비    N     NaN  NaN  \n",
       "218599     1    4050    포인트 2022-11-08 10:45:14  배송완료    N     NaN  NaN  \n",
       "218600    17  161500   신용카드 2022-11-08 10:49:28  배송완료    N     NaN  NaN  \n",
       "\n",
       "[218601 rows x 12 columns]"
      ]
     },
     "execution_count": 259,
     "metadata": {},
     "output_type": "execute_result"
    }
   ],
   "source": [
    "p"
   ]
  },
  {
   "cell_type": "markdown",
   "id": "fbae94cb-1aff-4226-aa37-245735cd4375",
   "metadata": {
    "id": "fbae94cb-1aff-4226-aa37-245735cd4375"
   },
   "source": [
    "## p 파일 데이터 확인 및 분석"
   ]
  },
  {
   "cell_type": "code",
   "execution_count": 260,
   "id": "7df33201-c661-4356-84ba-2f537efdf1ec",
   "metadata": {
    "colab": {
     "base_uri": "https://localhost:8080/"
    },
    "id": "7df33201-c661-4356-84ba-2f537efdf1ec",
    "outputId": "4c1586a8-cda5-4998-a70b-6774351d221e"
   },
   "outputs": [
    {
     "data": {
      "text/plain": [
       "0"
      ]
     },
     "execution_count": 260,
     "metadata": {},
     "output_type": "execute_result"
    }
   ],
   "source": [
    "# 주문수량 nan값 확인\n",
    "p['주문수량'].isna().sum()"
   ]
  },
  {
   "cell_type": "code",
   "execution_count": 261,
   "id": "0bed21b7-c928-432b-b549-f24a5708c7c1",
   "metadata": {
    "colab": {
     "base_uri": "https://localhost:8080/"
    },
    "id": "0bed21b7-c928-432b-b549-f24a5708c7c1",
    "outputId": "eaa3d767-3c3b-4f31-f358-96c207898ad9"
   },
   "outputs": [
    {
     "data": {
      "text/plain": [
       "0"
      ]
     },
     "execution_count": 261,
     "metadata": {},
     "output_type": "execute_result"
    }
   ],
   "source": [
    "p['판매금액'].isna().sum()"
   ]
  },
  {
   "cell_type": "code",
   "execution_count": 262,
   "id": "8a2b82a4-f0f4-4491-8c61-170aa62ab470",
   "metadata": {
    "colab": {
     "base_uri": "https://localhost:8080/"
    },
    "id": "8a2b82a4-f0f4-4491-8c61-170aa62ab470",
    "outputId": "00d19512-731f-428d-bcda-d15db3e14064"
   },
   "outputs": [
    {
     "data": {
      "text/plain": [
       "14"
      ]
     },
     "execution_count": 262,
     "metadata": {},
     "output_type": "execute_result"
    }
   ],
   "source": [
    "p['결제방법'].isna().sum()"
   ]
  },
  {
   "cell_type": "code",
   "execution_count": 263,
   "id": "cff47e5c-3349-43fd-a809-cbec7cce6840",
   "metadata": {
    "colab": {
     "base_uri": "https://localhost:8080/"
    },
    "id": "cff47e5c-3349-43fd-a809-cbec7cce6840",
    "outputId": "f9c7a4a9-5187-40ef-be3e-3b38b327f1fc"
   },
   "outputs": [
    {
     "data": {
      "text/plain": [
       "1927"
      ]
     },
     "execution_count": 263,
     "metadata": {},
     "output_type": "execute_result"
    }
   ],
   "source": [
    "p['할부기간'].notna().sum()"
   ]
  },
  {
   "cell_type": "code",
   "execution_count": 264,
   "id": "2dd1fe5b-c4c8-4c8d-9243-e6c18b06dc4d",
   "metadata": {
    "colab": {
     "base_uri": "https://localhost:8080/"
    },
    "id": "2dd1fe5b-c4c8-4c8d-9243-e6c18b06dc4d",
    "outputId": "a7917012-1b9f-4460-88a7-2f3ddc258bbb",
    "scrolled": true
   },
   "outputs": [
    {
     "data": {
      "text/plain": [
       "0"
      ]
     },
     "execution_count": 264,
     "metadata": {},
     "output_type": "execute_result"
    }
   ],
   "source": [
    "p['처리상태'].isna().sum()"
   ]
  },
  {
   "cell_type": "markdown",
   "id": "abc66c8c-fc6a-4588-afbb-a9ee6969c272",
   "metadata": {
    "id": "abc66c8c-fc6a-4588-afbb-a9ee6969c272"
   },
   "source": [
    "# 1번 RFM분석"
   ]
  },
  {
   "cell_type": "markdown",
   "id": "d4605fd5-5a40-421e-a053-9774b5699606",
   "metadata": {
    "id": "d4605fd5-5a40-421e-a053-9774b5699606"
   },
   "source": [
    "### 1:RFM분석을 위한 3개의 그룹 설정"
   ]
  },
  {
   "cell_type": "markdown",
   "id": "d495e062-4c2f-40f7-b841-44c62f56332a",
   "metadata": {},
   "source": [
    "#### 최근 날짜에 따라 등급 설정"
   ]
  },
  {
   "cell_type": "code",
   "execution_count": 265,
   "id": "12fdb956-3999-4cb9-a9cf-cf228b0658d5",
   "metadata": {},
   "outputs": [
    {
     "data": {
      "text/html": [
       "<div>\n",
       "<style scoped>\n",
       "    .dataframe tbody tr th:only-of-type {\n",
       "        vertical-align: middle;\n",
       "    }\n",
       "\n",
       "    .dataframe tbody tr th {\n",
       "        vertical-align: top;\n",
       "    }\n",
       "\n",
       "    .dataframe thead th {\n",
       "        text-align: right;\n",
       "    }\n",
       "</style>\n",
       "<table border=\"1\" class=\"dataframe\">\n",
       "  <thead>\n",
       "    <tr style=\"text-align: right;\">\n",
       "      <th></th>\n",
       "      <th>주문번호</th>\n",
       "      <th>업체명</th>\n",
       "      <th>상품명</th>\n",
       "      <th>제조사</th>\n",
       "      <th>주문수량</th>\n",
       "      <th>판매금액</th>\n",
       "      <th>결제방법</th>\n",
       "      <th>주문일자</th>\n",
       "      <th>처리상태</th>\n",
       "      <th>초도상품</th>\n",
       "      <th>제작문구 내역</th>\n",
       "      <th>할부기간</th>\n",
       "      <th>recency</th>\n",
       "    </tr>\n",
       "  </thead>\n",
       "  <tbody>\n",
       "    <tr>\n",
       "      <th>0</th>\n",
       "      <td>191213170236874</td>\n",
       "      <td>지니</td>\n",
       "      <td>eHBM셀파수학교실 비닐봉투-1세트 100장입</td>\n",
       "      <td>HB</td>\n",
       "      <td>1</td>\n",
       "      <td>5000</td>\n",
       "      <td>신용카드</td>\n",
       "      <td>2019-12-13 17:03:37</td>\n",
       "      <td>구매확정</td>\n",
       "      <td>N</td>\n",
       "      <td>NaN</td>\n",
       "      <td>NaN</td>\n",
       "      <td>1</td>\n",
       "    </tr>\n",
       "    <tr>\n",
       "      <th>1</th>\n",
       "      <td>191216100347429</td>\n",
       "      <td>지니</td>\n",
       "      <td>eHBM셀파수학교실 비닐봉투-1세트 100장입</td>\n",
       "      <td>HB</td>\n",
       "      <td>1</td>\n",
       "      <td>5000</td>\n",
       "      <td>신용카드</td>\n",
       "      <td>2019-12-16 10:04:50</td>\n",
       "      <td>구매확정</td>\n",
       "      <td>N</td>\n",
       "      <td>NaN</td>\n",
       "      <td>NaN</td>\n",
       "      <td>1</td>\n",
       "    </tr>\n",
       "    <tr>\n",
       "      <th>2</th>\n",
       "      <td>191216100347429</td>\n",
       "      <td>지니</td>\n",
       "      <td>eHBM셀파수학교실 삼색볼펜-1세트 50개입</td>\n",
       "      <td>HB</td>\n",
       "      <td>3</td>\n",
       "      <td>67500</td>\n",
       "      <td>신용카드</td>\n",
       "      <td>2019-12-16 10:04:50</td>\n",
       "      <td>구매확정</td>\n",
       "      <td>N</td>\n",
       "      <td>NaN</td>\n",
       "      <td>NaN</td>\n",
       "      <td>1</td>\n",
       "    </tr>\n",
       "    <tr>\n",
       "      <th>3</th>\n",
       "      <td>191216173241622</td>\n",
       "      <td>지니</td>\n",
       "      <td>eHBM셀파수학교실 회원용 리플렛-1세트 50권입</td>\n",
       "      <td>HB</td>\n",
       "      <td>2</td>\n",
       "      <td>30000</td>\n",
       "      <td>신용카드</td>\n",
       "      <td>2019-12-16 17:33:43</td>\n",
       "      <td>구매확정</td>\n",
       "      <td>N</td>\n",
       "      <td>NaN</td>\n",
       "      <td>NaN</td>\n",
       "      <td>1</td>\n",
       "    </tr>\n",
       "    <tr>\n",
       "      <th>4</th>\n",
       "      <td>191216173241622</td>\n",
       "      <td>지니</td>\n",
       "      <td>eHBM셀파수학교실-학습계통도(중등 5종)</td>\n",
       "      <td>HB</td>\n",
       "      <td>1</td>\n",
       "      <td>750</td>\n",
       "      <td>신용카드</td>\n",
       "      <td>2019-12-16 17:33:43</td>\n",
       "      <td>구매확정</td>\n",
       "      <td>N</td>\n",
       "      <td>NaN</td>\n",
       "      <td>NaN</td>\n",
       "      <td>1</td>\n",
       "    </tr>\n",
       "    <tr>\n",
       "      <th>...</th>\n",
       "      <td>...</td>\n",
       "      <td>...</td>\n",
       "      <td>...</td>\n",
       "      <td>...</td>\n",
       "      <td>...</td>\n",
       "      <td>...</td>\n",
       "      <td>...</td>\n",
       "      <td>...</td>\n",
       "      <td>...</td>\n",
       "      <td>...</td>\n",
       "      <td>...</td>\n",
       "      <td>...</td>\n",
       "      <td>...</td>\n",
       "    </tr>\n",
       "    <tr>\n",
       "      <th>218596</th>\n",
       "      <td>221108104041264</td>\n",
       "      <td>에이스디포</td>\n",
       "      <td>[스마트 HBE*초도] 입체 액자형 현판</td>\n",
       "      <td>에이스디포</td>\n",
       "      <td>1</td>\n",
       "      <td>35000</td>\n",
       "      <td>웰컴마일</td>\n",
       "      <td>2022-11-08 10:38:21</td>\n",
       "      <td>결제완료</td>\n",
       "      <td>Y</td>\n",
       "      <td>NaN</td>\n",
       "      <td>NaN</td>\n",
       "      <td>3</td>\n",
       "    </tr>\n",
       "    <tr>\n",
       "      <th>218597</th>\n",
       "      <td>221108104041264</td>\n",
       "      <td>에이스디포</td>\n",
       "      <td>[스마트 HBE*초도] 아크릴 사인</td>\n",
       "      <td>HB</td>\n",
       "      <td>1</td>\n",
       "      <td>26900</td>\n",
       "      <td>웰컴마일</td>\n",
       "      <td>2022-11-08 10:38:21</td>\n",
       "      <td>결제완료</td>\n",
       "      <td>Y</td>\n",
       "      <td>NaN</td>\n",
       "      <td>NaN</td>\n",
       "      <td>3</td>\n",
       "    </tr>\n",
       "    <tr>\n",
       "      <th>218598</th>\n",
       "      <td>221108104536307</td>\n",
       "      <td>에이스디포</td>\n",
       "      <td>[스마트 HBM] 아크릴 사인</td>\n",
       "      <td>HB</td>\n",
       "      <td>1</td>\n",
       "      <td>26900</td>\n",
       "      <td>신 + 포</td>\n",
       "      <td>2022-11-08 10:43:15</td>\n",
       "      <td>배송준비</td>\n",
       "      <td>N</td>\n",
       "      <td>NaN</td>\n",
       "      <td>NaN</td>\n",
       "      <td>3</td>\n",
       "    </tr>\n",
       "    <tr>\n",
       "      <th>218599</th>\n",
       "      <td>221108104735216</td>\n",
       "      <td>다우기술</td>\n",
       "      <td>[스타벅스] 아이스 카페 아메리카노 T</td>\n",
       "      <td>스타벅스</td>\n",
       "      <td>1</td>\n",
       "      <td>4050</td>\n",
       "      <td>포인트</td>\n",
       "      <td>2022-11-08 10:45:14</td>\n",
       "      <td>배송완료</td>\n",
       "      <td>N</td>\n",
       "      <td>NaN</td>\n",
       "      <td>NaN</td>\n",
       "      <td>3</td>\n",
       "    </tr>\n",
       "    <tr>\n",
       "      <th>218600</th>\n",
       "      <td>221108105148171</td>\n",
       "      <td>다우기술</td>\n",
       "      <td>[특별한 크리스마스] 2차-신세계 상품권 모바일 교환권-1만원권</td>\n",
       "      <td>신세계</td>\n",
       "      <td>17</td>\n",
       "      <td>161500</td>\n",
       "      <td>신용카드</td>\n",
       "      <td>2022-11-08 10:49:28</td>\n",
       "      <td>배송완료</td>\n",
       "      <td>N</td>\n",
       "      <td>NaN</td>\n",
       "      <td>NaN</td>\n",
       "      <td>3</td>\n",
       "    </tr>\n",
       "  </tbody>\n",
       "</table>\n",
       "<p>218601 rows × 13 columns</p>\n",
       "</div>"
      ],
      "text/plain": [
       "                   주문번호    업체명                                  상품명    제조사  \\\n",
       "0       191213170236874     지니            eHBM셀파수학교실 비닐봉투-1세트 100장입     HB   \n",
       "1       191216100347429     지니            eHBM셀파수학교실 비닐봉투-1세트 100장입     HB   \n",
       "2       191216100347429     지니             eHBM셀파수학교실 삼색볼펜-1세트 50개입     HB   \n",
       "3       191216173241622     지니          eHBM셀파수학교실 회원용 리플렛-1세트 50권입     HB   \n",
       "4       191216173241622     지니              eHBM셀파수학교실-학습계통도(중등 5종)     HB   \n",
       "...                 ...    ...                                  ...    ...   \n",
       "218596  221108104041264  에이스디포               [스마트 HBE*초도] 입체 액자형 현판  에이스디포   \n",
       "218597  221108104041264  에이스디포                  [스마트 HBE*초도] 아크릴 사인     HB   \n",
       "218598  221108104536307  에이스디포                     [스마트 HBM] 아크릴 사인     HB   \n",
       "218599  221108104735216   다우기술                [스타벅스] 아이스 카페 아메리카노 T   스타벅스   \n",
       "218600  221108105148171   다우기술  [특별한 크리스마스] 2차-신세계 상품권 모바일 교환권-1만원권    신세계   \n",
       "\n",
       "        주문수량    판매금액   결제방법                주문일자  처리상태 초도상품 제작문구 내역 할부기간  \\\n",
       "0          1    5000   신용카드 2019-12-13 17:03:37  구매확정    N     NaN  NaN   \n",
       "1          1    5000   신용카드 2019-12-16 10:04:50  구매확정    N     NaN  NaN   \n",
       "2          3   67500   신용카드 2019-12-16 10:04:50  구매확정    N     NaN  NaN   \n",
       "3          2   30000   신용카드 2019-12-16 17:33:43  구매확정    N     NaN  NaN   \n",
       "4          1     750   신용카드 2019-12-16 17:33:43  구매확정    N     NaN  NaN   \n",
       "...      ...     ...    ...                 ...   ...  ...     ...  ...   \n",
       "218596     1   35000   웰컴마일 2022-11-08 10:38:21  결제완료    Y     NaN  NaN   \n",
       "218597     1   26900   웰컴마일 2022-11-08 10:38:21  결제완료    Y     NaN  NaN   \n",
       "218598     1   26900  신 + 포 2022-11-08 10:43:15  배송준비    N     NaN  NaN   \n",
       "218599     1    4050    포인트 2022-11-08 10:45:14  배송완료    N     NaN  NaN   \n",
       "218600    17  161500   신용카드 2022-11-08 10:49:28  배송완료    N     NaN  NaN   \n",
       "\n",
       "        recency  \n",
       "0             1  \n",
       "1             1  \n",
       "2             1  \n",
       "3             1  \n",
       "4             1  \n",
       "...         ...  \n",
       "218596        3  \n",
       "218597        3  \n",
       "218598        3  \n",
       "218599        3  \n",
       "218600        3  \n",
       "\n",
       "[218601 rows x 13 columns]"
      ]
     },
     "execution_count": 265,
     "metadata": {},
     "output_type": "execute_result"
    }
   ],
   "source": [
    "\n",
    "\n",
    "NOW = dt.datetime(2022, 12, 1)\n",
    "\n",
    "# 각 주문의 recency 계산 (현재 날짜 - 주문일자)\n",
    "p['recency_days'] = (NOW - p['주문일자']).dt.days\n",
    "\n",
    "# recency 등급을 매기는 함수 정의\n",
    "def categorize_recency(days):\n",
    "    if days <= 61:\n",
    "        return 3\n",
    "    elif days <= 180:\n",
    "        return 2\n",
    "    else:\n",
    "        return 1\n",
    "# 각 주문에 대해 recency 등급 적용\n",
    "p['recency'] = p['recency_days'].apply(categorize_recency)\n",
    "# 필요에 따라 'recency_days' 컬럼 삭제\n",
    "p.drop(columns=['recency_days'], inplace=True)\n",
    "# 결과 확인\n",
    "p"
   ]
  },
  {
   "cell_type": "code",
   "execution_count": 266,
   "id": "a2a3a9d2-151f-43ab-aa5b-680c0e89ef7e",
   "metadata": {
    "scrolled": true
   },
   "outputs": [
    {
     "data": {
      "text/plain": [
       "recency\n",
       "1    159458\n",
       "2     42337\n",
       "3     16806\n",
       "Name: count, dtype: int64"
      ]
     },
     "execution_count": 266,
     "metadata": {},
     "output_type": "execute_result"
    }
   ],
   "source": [
    "p['recency'].value_counts()"
   ]
  },
  {
   "cell_type": "code",
   "execution_count": 267,
   "id": "d25f26e5-5e75-4d8d-a045-ba994ca2c2ee",
   "metadata": {},
   "outputs": [],
   "source": [
    "p['recency'] = p['recency'].astype('category')"
   ]
  },
  {
   "cell_type": "code",
   "execution_count": 268,
   "id": "f50ecb5a-f60e-4107-8db2-4b1ed8644fcf",
   "metadata": {},
   "outputs": [
    {
     "data": {
      "text/plain": [
       "0         1\n",
       "1         1\n",
       "2         1\n",
       "3         1\n",
       "4         1\n",
       "         ..\n",
       "218596    3\n",
       "218597    3\n",
       "218598    3\n",
       "218599    3\n",
       "218600    3\n",
       "Name: recency, Length: 218601, dtype: category\n",
       "Categories (3, int64): [1, 2, 3]"
      ]
     },
     "execution_count": 268,
     "metadata": {},
     "output_type": "execute_result"
    }
   ],
   "source": [
    "p['recency']"
   ]
  },
  {
   "cell_type": "markdown",
   "id": "4effd0f9-a753-4202-8abe-b0ae6332300c",
   "metadata": {},
   "source": [
    "#### 빈도수에 따라 그룹 등급 설정"
   ]
  },
  {
   "cell_type": "code",
   "execution_count": 269,
   "id": "dc983edb-71cb-4511-b904-2855c6a53946",
   "metadata": {
    "scrolled": true
   },
   "outputs": [
    {
     "name": "stdout",
     "output_type": "stream",
     "text": [
      "Frequency Group:\n",
      "         frequency frequency_group\n",
      "업체명                               \n",
      "7321디자인         77               1\n",
      "이선생자석교구          8               1\n",
      "이루커머스            6               1\n",
      "이든교육           229               1\n",
      "유쾌한생각           67               1\n",
      "...            ...             ...\n",
      "라온웍스          3934               2\n",
      "알파            3688               2\n",
      "지니           61835               3\n",
      "다우기술         85553               3\n",
      "쥬크박스         18661               3\n",
      "\n",
      "[89 rows x 2 columns]\n",
      "\n",
      "Frequency Group 1 등급:\n",
      "         frequency frequency_group\n",
      "업체명                               \n",
      "7321디자인         77               1\n",
      "가베             348               1\n",
      "가이스파트너스        306               1\n",
      "그린피앤에스         278               1\n",
      "네오필립            89               1\n",
      "...            ...             ...\n",
      "피플이엔티           70               1\n",
      "한민유통           663               1\n",
      "한샘글로벌            3               1\n",
      "행복한바오밥         237               1\n",
      "헬스하우스           15               1\n",
      "\n",
      "[74 rows x 2 columns]\n",
      "\n",
      "Frequency Group 2 등급:\n",
      "              frequency frequency_group\n",
      "업체명                                    \n",
      "거영아이앤디             4384               2\n",
      "라온웍스               3934               2\n",
      "블루스톤익스체인지          1871               2\n",
      "빅픽처                1262               2\n",
      "알파                 3688               2\n",
      "에이스디포              8388               2\n",
      "오피스퀵               7173               2\n",
      "유앤알코리아             3550               2\n",
      "조이스                3144               2\n",
      "지니 태블릿             1506               2\n",
      "지니 태블릿(후불집행)       1297               2\n",
      "천재태블릿              2891               2\n",
      "\n",
      "Frequency Group 3 등급:\n",
      "      frequency frequency_group\n",
      "업체명                            \n",
      "다우기술      85553               3\n",
      "쥬크박스      18661               3\n",
      "지니        61835               3\n",
      "\n",
      "Frequency가 가장 높은 데이터 2개:\n",
      "      frequency frequency_group\n",
      "업체명                            \n",
      "다우기술      85553               3\n",
      "지니        61835               3\n",
      "\n",
      "Frequency가 가장 낮은 데이터 2개:\n",
      "       frequency frequency_group\n",
      "업체명                             \n",
      "에어인            1               1\n",
      "한샘글로벌          3               1\n"
     ]
    }
   ],
   "source": [
    "# RFM 데이터 계산\n",
    "rfmTable_f = p.groupby('업체명').agg({\n",
    "    '업체명': lambda x: len(x),  # Frequency\n",
    "})\n",
    "# 열 이름 변경\n",
    "rfmTable_f.rename(columns={'업체명': 'frequency'}, inplace=True)\n",
    "# Frequency 기준으로 그룹화\n",
    "freq_bins = [0, 1000, 10000, np.inf]\n",
    "freq_labels = ['1', '2', '3']\n",
    "# pd.cut 함수를 사용하여 각 업체를 Frequency 범위에 따라 분류합니다.\n",
    "rfmTable_f['frequency_group'] = pd.cut(rfmTable_f['frequency'], bins=freq_bins, labels=freq_labels, right=True)\n",
    "# Frequency 그룹화 결과 출력\n",
    "print(\"Frequency Group:\")\n",
    "print(rfmTable_f[['frequency', 'frequency_group']].sort_values(by='frequency_group'))\n",
    "# 각 등급별 업체 리스트 출력\n",
    "for group in freq_labels:\n",
    "    print(f\"\\nFrequency Group {group} 등급:\")\n",
    "    print(rfmTable_f[rfmTable_f['frequency_group'] == group])\n",
    "# Frequency가 가장 높은 데이터와 가장 낮은 데이터 2개씩 출력\n",
    "highest_freq = rfmTable_f.sort_values(by='frequency', ascending=False).head(2)\n",
    "lowest_freq = rfmTable_f.sort_values(by='frequency', ascending=True).head(2)\n",
    "print(\"\\nFrequency가 가장 높은 데이터 2개:\")\n",
    "print(highest_freq)\n",
    "print(\"\\nFrequency가 가장 낮은 데이터 2개:\")\n",
    "print(lowest_freq)\n",
    "\n",
    "# 원래 데이터프레임 p에 frequency_group 열 추가\n",
    "p = pd.merge(p, rfmTable_f[['frequency_group']], on='업체명', how='left')\n",
    "p.rename(columns={'frequency_group': 'frequency'}, inplace=True)"
   ]
  },
  {
   "cell_type": "code",
   "execution_count": 270,
   "id": "61cadcff-2684-44b6-8877-14de6ef94338",
   "metadata": {},
   "outputs": [
    {
     "data": {
      "text/html": [
       "<div>\n",
       "<style scoped>\n",
       "    .dataframe tbody tr th:only-of-type {\n",
       "        vertical-align: middle;\n",
       "    }\n",
       "\n",
       "    .dataframe tbody tr th {\n",
       "        vertical-align: top;\n",
       "    }\n",
       "\n",
       "    .dataframe thead th {\n",
       "        text-align: right;\n",
       "    }\n",
       "</style>\n",
       "<table border=\"1\" class=\"dataframe\">\n",
       "  <thead>\n",
       "    <tr style=\"text-align: right;\">\n",
       "      <th></th>\n",
       "      <th>주문번호</th>\n",
       "      <th>업체명</th>\n",
       "      <th>상품명</th>\n",
       "      <th>제조사</th>\n",
       "      <th>주문수량</th>\n",
       "      <th>판매금액</th>\n",
       "      <th>결제방법</th>\n",
       "      <th>주문일자</th>\n",
       "      <th>처리상태</th>\n",
       "      <th>초도상품</th>\n",
       "      <th>제작문구 내역</th>\n",
       "      <th>할부기간</th>\n",
       "      <th>recency</th>\n",
       "      <th>frequency</th>\n",
       "    </tr>\n",
       "  </thead>\n",
       "  <tbody>\n",
       "    <tr>\n",
       "      <th>0</th>\n",
       "      <td>191213170236874</td>\n",
       "      <td>지니</td>\n",
       "      <td>eHBM셀파수학교실 비닐봉투-1세트 100장입</td>\n",
       "      <td>HB</td>\n",
       "      <td>1</td>\n",
       "      <td>5000</td>\n",
       "      <td>신용카드</td>\n",
       "      <td>2019-12-13 17:03:37</td>\n",
       "      <td>구매확정</td>\n",
       "      <td>N</td>\n",
       "      <td>NaN</td>\n",
       "      <td>NaN</td>\n",
       "      <td>1</td>\n",
       "      <td>3</td>\n",
       "    </tr>\n",
       "    <tr>\n",
       "      <th>1</th>\n",
       "      <td>191216100347429</td>\n",
       "      <td>지니</td>\n",
       "      <td>eHBM셀파수학교실 비닐봉투-1세트 100장입</td>\n",
       "      <td>HB</td>\n",
       "      <td>1</td>\n",
       "      <td>5000</td>\n",
       "      <td>신용카드</td>\n",
       "      <td>2019-12-16 10:04:50</td>\n",
       "      <td>구매확정</td>\n",
       "      <td>N</td>\n",
       "      <td>NaN</td>\n",
       "      <td>NaN</td>\n",
       "      <td>1</td>\n",
       "      <td>3</td>\n",
       "    </tr>\n",
       "    <tr>\n",
       "      <th>2</th>\n",
       "      <td>191216100347429</td>\n",
       "      <td>지니</td>\n",
       "      <td>eHBM셀파수학교실 삼색볼펜-1세트 50개입</td>\n",
       "      <td>HB</td>\n",
       "      <td>3</td>\n",
       "      <td>67500</td>\n",
       "      <td>신용카드</td>\n",
       "      <td>2019-12-16 10:04:50</td>\n",
       "      <td>구매확정</td>\n",
       "      <td>N</td>\n",
       "      <td>NaN</td>\n",
       "      <td>NaN</td>\n",
       "      <td>1</td>\n",
       "      <td>3</td>\n",
       "    </tr>\n",
       "    <tr>\n",
       "      <th>3</th>\n",
       "      <td>191216173241622</td>\n",
       "      <td>지니</td>\n",
       "      <td>eHBM셀파수학교실 회원용 리플렛-1세트 50권입</td>\n",
       "      <td>HB</td>\n",
       "      <td>2</td>\n",
       "      <td>30000</td>\n",
       "      <td>신용카드</td>\n",
       "      <td>2019-12-16 17:33:43</td>\n",
       "      <td>구매확정</td>\n",
       "      <td>N</td>\n",
       "      <td>NaN</td>\n",
       "      <td>NaN</td>\n",
       "      <td>1</td>\n",
       "      <td>3</td>\n",
       "    </tr>\n",
       "    <tr>\n",
       "      <th>4</th>\n",
       "      <td>191216173241622</td>\n",
       "      <td>지니</td>\n",
       "      <td>eHBM셀파수학교실-학습계통도(중등 5종)</td>\n",
       "      <td>HB</td>\n",
       "      <td>1</td>\n",
       "      <td>750</td>\n",
       "      <td>신용카드</td>\n",
       "      <td>2019-12-16 17:33:43</td>\n",
       "      <td>구매확정</td>\n",
       "      <td>N</td>\n",
       "      <td>NaN</td>\n",
       "      <td>NaN</td>\n",
       "      <td>1</td>\n",
       "      <td>3</td>\n",
       "    </tr>\n",
       "    <tr>\n",
       "      <th>...</th>\n",
       "      <td>...</td>\n",
       "      <td>...</td>\n",
       "      <td>...</td>\n",
       "      <td>...</td>\n",
       "      <td>...</td>\n",
       "      <td>...</td>\n",
       "      <td>...</td>\n",
       "      <td>...</td>\n",
       "      <td>...</td>\n",
       "      <td>...</td>\n",
       "      <td>...</td>\n",
       "      <td>...</td>\n",
       "      <td>...</td>\n",
       "      <td>...</td>\n",
       "    </tr>\n",
       "    <tr>\n",
       "      <th>218596</th>\n",
       "      <td>221108104041264</td>\n",
       "      <td>에이스디포</td>\n",
       "      <td>[스마트 HBE*초도] 입체 액자형 현판</td>\n",
       "      <td>에이스디포</td>\n",
       "      <td>1</td>\n",
       "      <td>35000</td>\n",
       "      <td>웰컴마일</td>\n",
       "      <td>2022-11-08 10:38:21</td>\n",
       "      <td>결제완료</td>\n",
       "      <td>Y</td>\n",
       "      <td>NaN</td>\n",
       "      <td>NaN</td>\n",
       "      <td>3</td>\n",
       "      <td>2</td>\n",
       "    </tr>\n",
       "    <tr>\n",
       "      <th>218597</th>\n",
       "      <td>221108104041264</td>\n",
       "      <td>에이스디포</td>\n",
       "      <td>[스마트 HBE*초도] 아크릴 사인</td>\n",
       "      <td>HB</td>\n",
       "      <td>1</td>\n",
       "      <td>26900</td>\n",
       "      <td>웰컴마일</td>\n",
       "      <td>2022-11-08 10:38:21</td>\n",
       "      <td>결제완료</td>\n",
       "      <td>Y</td>\n",
       "      <td>NaN</td>\n",
       "      <td>NaN</td>\n",
       "      <td>3</td>\n",
       "      <td>2</td>\n",
       "    </tr>\n",
       "    <tr>\n",
       "      <th>218598</th>\n",
       "      <td>221108104536307</td>\n",
       "      <td>에이스디포</td>\n",
       "      <td>[스마트 HBM] 아크릴 사인</td>\n",
       "      <td>HB</td>\n",
       "      <td>1</td>\n",
       "      <td>26900</td>\n",
       "      <td>신 + 포</td>\n",
       "      <td>2022-11-08 10:43:15</td>\n",
       "      <td>배송준비</td>\n",
       "      <td>N</td>\n",
       "      <td>NaN</td>\n",
       "      <td>NaN</td>\n",
       "      <td>3</td>\n",
       "      <td>2</td>\n",
       "    </tr>\n",
       "    <tr>\n",
       "      <th>218599</th>\n",
       "      <td>221108104735216</td>\n",
       "      <td>다우기술</td>\n",
       "      <td>[스타벅스] 아이스 카페 아메리카노 T</td>\n",
       "      <td>스타벅스</td>\n",
       "      <td>1</td>\n",
       "      <td>4050</td>\n",
       "      <td>포인트</td>\n",
       "      <td>2022-11-08 10:45:14</td>\n",
       "      <td>배송완료</td>\n",
       "      <td>N</td>\n",
       "      <td>NaN</td>\n",
       "      <td>NaN</td>\n",
       "      <td>3</td>\n",
       "      <td>3</td>\n",
       "    </tr>\n",
       "    <tr>\n",
       "      <th>218600</th>\n",
       "      <td>221108105148171</td>\n",
       "      <td>다우기술</td>\n",
       "      <td>[특별한 크리스마스] 2차-신세계 상품권 모바일 교환권-1만원권</td>\n",
       "      <td>신세계</td>\n",
       "      <td>17</td>\n",
       "      <td>161500</td>\n",
       "      <td>신용카드</td>\n",
       "      <td>2022-11-08 10:49:28</td>\n",
       "      <td>배송완료</td>\n",
       "      <td>N</td>\n",
       "      <td>NaN</td>\n",
       "      <td>NaN</td>\n",
       "      <td>3</td>\n",
       "      <td>3</td>\n",
       "    </tr>\n",
       "  </tbody>\n",
       "</table>\n",
       "<p>218601 rows × 14 columns</p>\n",
       "</div>"
      ],
      "text/plain": [
       "                   주문번호    업체명                                  상품명    제조사  \\\n",
       "0       191213170236874     지니            eHBM셀파수학교실 비닐봉투-1세트 100장입     HB   \n",
       "1       191216100347429     지니            eHBM셀파수학교실 비닐봉투-1세트 100장입     HB   \n",
       "2       191216100347429     지니             eHBM셀파수학교실 삼색볼펜-1세트 50개입     HB   \n",
       "3       191216173241622     지니          eHBM셀파수학교실 회원용 리플렛-1세트 50권입     HB   \n",
       "4       191216173241622     지니              eHBM셀파수학교실-학습계통도(중등 5종)     HB   \n",
       "...                 ...    ...                                  ...    ...   \n",
       "218596  221108104041264  에이스디포               [스마트 HBE*초도] 입체 액자형 현판  에이스디포   \n",
       "218597  221108104041264  에이스디포                  [스마트 HBE*초도] 아크릴 사인     HB   \n",
       "218598  221108104536307  에이스디포                     [스마트 HBM] 아크릴 사인     HB   \n",
       "218599  221108104735216   다우기술                [스타벅스] 아이스 카페 아메리카노 T   스타벅스   \n",
       "218600  221108105148171   다우기술  [특별한 크리스마스] 2차-신세계 상품권 모바일 교환권-1만원권    신세계   \n",
       "\n",
       "        주문수량    판매금액   결제방법                주문일자  처리상태 초도상품 제작문구 내역 할부기간  \\\n",
       "0          1    5000   신용카드 2019-12-13 17:03:37  구매확정    N     NaN  NaN   \n",
       "1          1    5000   신용카드 2019-12-16 10:04:50  구매확정    N     NaN  NaN   \n",
       "2          3   67500   신용카드 2019-12-16 10:04:50  구매확정    N     NaN  NaN   \n",
       "3          2   30000   신용카드 2019-12-16 17:33:43  구매확정    N     NaN  NaN   \n",
       "4          1     750   신용카드 2019-12-16 17:33:43  구매확정    N     NaN  NaN   \n",
       "...      ...     ...    ...                 ...   ...  ...     ...  ...   \n",
       "218596     1   35000   웰컴마일 2022-11-08 10:38:21  결제완료    Y     NaN  NaN   \n",
       "218597     1   26900   웰컴마일 2022-11-08 10:38:21  결제완료    Y     NaN  NaN   \n",
       "218598     1   26900  신 + 포 2022-11-08 10:43:15  배송준비    N     NaN  NaN   \n",
       "218599     1    4050    포인트 2022-11-08 10:45:14  배송완료    N     NaN  NaN   \n",
       "218600    17  161500   신용카드 2022-11-08 10:49:28  배송완료    N     NaN  NaN   \n",
       "\n",
       "       recency frequency  \n",
       "0            1         3  \n",
       "1            1         3  \n",
       "2            1         3  \n",
       "3            1         3  \n",
       "4            1         3  \n",
       "...        ...       ...  \n",
       "218596       3         2  \n",
       "218597       3         2  \n",
       "218598       3         2  \n",
       "218599       3         3  \n",
       "218600       3         3  \n",
       "\n",
       "[218601 rows x 14 columns]"
      ]
     },
     "execution_count": 270,
     "metadata": {},
     "output_type": "execute_result"
    }
   ],
   "source": [
    "p"
   ]
  },
  {
   "cell_type": "code",
   "execution_count": 271,
   "id": "0ea75cc2-47d2-47ad-bfde-c3a62dace1d8",
   "metadata": {},
   "outputs": [
    {
     "name": "stdout",
     "output_type": "stream",
     "text": [
      "Frequency Group Counts:\n",
      "frequency_group\n",
      "1    74\n",
      "2    12\n",
      "3     3\n",
      "Name: count, dtype: int64\n"
     ]
    }
   ],
   "source": [
    "# frequency_group의 각 등급별 개수 확인\n",
    "frequency_group_counts = rfmTable_f['frequency_group'].value_counts().sort_index()\n",
    "print(\"Frequency Group Counts:\")\n",
    "print(frequency_group_counts)"
   ]
  },
  {
   "cell_type": "markdown",
   "id": "35a937f1-0e15-4ca2-a6d9-ee5c1c5589fc",
   "metadata": {},
   "source": [
    "#### 지출액에 따라 그룹 등급 설정"
   ]
  },
  {
   "cell_type": "code",
   "execution_count": 272,
   "id": "05ccd2d1-41de-4b98-be1c-30a77185ea43",
   "metadata": {
    "colab": {
     "base_uri": "https://localhost:8080/"
    },
    "id": "05ccd2d1-41de-4b98-be1c-30a77185ea43",
    "outputId": "b3e54d6c-1b0e-4774-ed06-d82be6e653f4"
   },
   "outputs": [
    {
     "name": "stdout",
     "output_type": "stream",
     "text": [
      "억 단위 그룹:\n",
      "             업체명        판매금액 monetary\n",
      "7           다우기술  3687810416        3\n",
      "12          라온웍스   215238580        3\n",
      "49         에이스디포   316171800        3\n",
      "52          오피스퀵   218748500        3\n",
      "67          쥬크박스   110472470        3\n",
      "68            지니  1241881825        3\n",
      "69        지니 태블릿  1455928000        3\n",
      "70  지니 태블릿(후불집행)  1081872000        3\n",
      "72         천재태블릿  2362932000        3\n",
      "\n",
      "천만 단위 그룹:\n",
      "            업체명      판매금액 monetary\n",
      "2       가이스파트너스  18177500        2\n",
      "3        거영아이앤디  36582310        2\n",
      "5          네오필립  11158200        2\n",
      "6          뉴트리원  13811400        2\n",
      "8         더싸다닷컴  53118000        2\n",
      "9           드림빌  35672790        2\n",
      "18   리얼리티리테일코리아  11711100        2\n",
      "20        리틀램스쿨  10405880        2\n",
      "31    블루스톤익스체인지  90914460        2\n",
      "32       비전플레이스  16460000        2\n",
      "33       비즈마켓렌탈  24392730        2\n",
      "34          빅픽처  45763100        2\n",
      "38        셀러테스트  21422300        2\n",
      "40         스테툴스  11344080        2\n",
      "41      싱크로드코리아  17235800        2\n",
      "42       아이엔리테일  28435000        2\n",
      "43        아토코리아  14220500        2\n",
      "44           알파  41057164        2\n",
      "45          애쓰다  11067300        2\n",
      "46        애플나라샵  13236320        2\n",
      "56       유앤알코리아  25128910        2\n",
      "61         이트너스  55596200        2\n",
      "63         일이테크  15142300        2\n",
      "64          조이스  34393170        2\n",
      "65  주식회사 티앤티솔루션  17985000        2\n",
      "66         준디자인  20754350        2\n",
      "73           청화  14975200        2\n",
      "85         한민유통  10428760        2\n",
      "\n",
      "그 이하 그룹:\n",
      "          업체명     판매금액 monetary\n",
      "0     7321디자인   349200        1\n",
      "1          가베  7895940        1\n",
      "4      그린피앤에스  3001160        1\n",
      "10      디자인다소   480720        1\n",
      "11     라씨오날에듀   744500        1\n",
      "13        래시드   263500        1\n",
      "14       럭스럭스  3721880        1\n",
      "15       레인트리   247190        1\n",
      "16     로렌츄컴퍼니   569880        1\n",
      "17       로즈마켓   410800        1\n",
      "19         리체    78900        1\n",
      "21   링커블테크놀러지   107700        1\n",
      "22     마스크공작소  6004400        1\n",
      "23      만들기대장  3063750        1\n",
      "24       매직북스   572660        1\n",
      "25        맨도롱   354200        1\n",
      "26      메디쿼터스   153000        1\n",
      "27      모든오피스  6581260        1\n",
      "28         뮤템   372120        1\n",
      "29   바나나코퍼레이션   173200        1\n",
      "30        보드엠   925500        1\n",
      "35     사이언스스타  1675290        1\n",
      "36       산스토어  4809660        1\n",
      "37        석빙고  2411400        1\n",
      "39        스낵포  2836200        1\n",
      "47     에스아이상사  4129400        1\n",
      "48        에어인    20900        1\n",
      "50    엔에이치엔에듀  4840000        1\n",
      "51        엘식스  2607100        1\n",
      "53      오피스허브  1379610        1\n",
      "54     와니사이언스  1102400        1\n",
      "55      와이앤제이   216700        1\n",
      "57      유쾌한생각  4354300        1\n",
      "58       이든교육  8594420        1\n",
      "59      이루커머스   125300        1\n",
      "60    이선생자석교구    86700        1\n",
      "62  인테이크 주식회사   232850        1\n",
      "71      채널씨엔씨  5030100        1\n",
      "74        테스트  7200000        1\n",
      "75   트리인천신현지사  6129100        1\n",
      "76      티셀-도서   857790        1\n",
      "77      티셀-유아  7632700        1\n",
      "78  퍼스트엔터테인먼트   265040        1\n",
      "79      페트라기업   925700        1\n",
      "80       프린피아    15840        1\n",
      "81     플레이스마터   111300        1\n",
      "82  플레이피에스마케팅  6834350        1\n",
      "83    피에이엔글로벌   118560        1\n",
      "84      피플이엔티  5634600        1\n",
      "86      한샘글로벌    93400        1\n",
      "87     행복한바오밥  4902150        1\n",
      "88      헬스하우스   270900        1\n"
     ]
    }
   ],
   "source": [
    "# 판매금액 합계 계산\n",
    "df_sum = p.groupby('업체명')['판매금액'].sum().reset_index()\n",
    "\n",
    "# 매출액 기준으로 그룹 지정\n",
    "# bins는 매출액 범위를 정의합니다: [0, 10,000,000, 100,000,000, 무한대]\n",
    "bins = [0, 10000000, 100000000, np.inf]\n",
    "# labels는 각 범위에 대한 이름을 지정합니다.\n",
    "labels = ['1', '2', '3']\n",
    "\n",
    "# pd.cut 함수를 사용하여 각 업체를 매출액 범위에 따라 분류합니다.\n",
    "df_sum['monetary'] = pd.cut(df_sum['판매금액'], bins=bins, labels=labels, right=True)\n",
    "\n",
    "# 결과 출력\n",
    "# 억 단위 그룹\n",
    "billion_group = df_sum[df_sum['monetary'] == '3']\n",
    "print(\"억 단위 그룹:\")\n",
    "print(billion_group)\n",
    "\n",
    "# 천만 단위 그룹\n",
    "ten_million_group = df_sum[df_sum['monetary'] == '2']\n",
    "print(\"\\n천만 단위 그룹:\")\n",
    "print(ten_million_group)\n",
    "\n",
    "# 그 이하 그룹\n",
    "below_group = df_sum[df_sum['monetary'] == '1']\n",
    "print(\"\\n그 이하 그룹:\")\n",
    "print(below_group)"
   ]
  },
  {
   "cell_type": "code",
   "execution_count": 273,
   "id": "616620f4-9d71-4d8b-920b-4f58f83f81bc",
   "metadata": {
    "id": "616620f4-9d71-4d8b-920b-4f58f83f81bc"
   },
   "outputs": [],
   "source": [
    "## 그룹변수 추가\n",
    "p = pd.merge(p, df_sum[['업체명', 'monetary']], on='업체명', how='left')"
   ]
  },
  {
   "cell_type": "code",
   "execution_count": 274,
   "id": "fb6eb86a-d7de-4026-ac2f-6a4f11d36814",
   "metadata": {},
   "outputs": [
    {
     "data": {
      "text/html": [
       "<div>\n",
       "<style scoped>\n",
       "    .dataframe tbody tr th:only-of-type {\n",
       "        vertical-align: middle;\n",
       "    }\n",
       "\n",
       "    .dataframe tbody tr th {\n",
       "        vertical-align: top;\n",
       "    }\n",
       "\n",
       "    .dataframe thead th {\n",
       "        text-align: right;\n",
       "    }\n",
       "</style>\n",
       "<table border=\"1\" class=\"dataframe\">\n",
       "  <thead>\n",
       "    <tr style=\"text-align: right;\">\n",
       "      <th></th>\n",
       "      <th>주문번호</th>\n",
       "      <th>업체명</th>\n",
       "      <th>상품명</th>\n",
       "      <th>제조사</th>\n",
       "      <th>주문수량</th>\n",
       "      <th>판매금액</th>\n",
       "      <th>결제방법</th>\n",
       "      <th>주문일자</th>\n",
       "      <th>처리상태</th>\n",
       "      <th>초도상품</th>\n",
       "      <th>제작문구 내역</th>\n",
       "      <th>할부기간</th>\n",
       "      <th>recency</th>\n",
       "      <th>frequency</th>\n",
       "      <th>monetary</th>\n",
       "    </tr>\n",
       "  </thead>\n",
       "  <tbody>\n",
       "    <tr>\n",
       "      <th>0</th>\n",
       "      <td>191213170236874</td>\n",
       "      <td>지니</td>\n",
       "      <td>eHBM셀파수학교실 비닐봉투-1세트 100장입</td>\n",
       "      <td>HB</td>\n",
       "      <td>1</td>\n",
       "      <td>5000</td>\n",
       "      <td>신용카드</td>\n",
       "      <td>2019-12-13 17:03:37</td>\n",
       "      <td>구매확정</td>\n",
       "      <td>N</td>\n",
       "      <td>NaN</td>\n",
       "      <td>NaN</td>\n",
       "      <td>1</td>\n",
       "      <td>3</td>\n",
       "      <td>3</td>\n",
       "    </tr>\n",
       "    <tr>\n",
       "      <th>1</th>\n",
       "      <td>191216100347429</td>\n",
       "      <td>지니</td>\n",
       "      <td>eHBM셀파수학교실 비닐봉투-1세트 100장입</td>\n",
       "      <td>HB</td>\n",
       "      <td>1</td>\n",
       "      <td>5000</td>\n",
       "      <td>신용카드</td>\n",
       "      <td>2019-12-16 10:04:50</td>\n",
       "      <td>구매확정</td>\n",
       "      <td>N</td>\n",
       "      <td>NaN</td>\n",
       "      <td>NaN</td>\n",
       "      <td>1</td>\n",
       "      <td>3</td>\n",
       "      <td>3</td>\n",
       "    </tr>\n",
       "    <tr>\n",
       "      <th>2</th>\n",
       "      <td>191216100347429</td>\n",
       "      <td>지니</td>\n",
       "      <td>eHBM셀파수학교실 삼색볼펜-1세트 50개입</td>\n",
       "      <td>HB</td>\n",
       "      <td>3</td>\n",
       "      <td>67500</td>\n",
       "      <td>신용카드</td>\n",
       "      <td>2019-12-16 10:04:50</td>\n",
       "      <td>구매확정</td>\n",
       "      <td>N</td>\n",
       "      <td>NaN</td>\n",
       "      <td>NaN</td>\n",
       "      <td>1</td>\n",
       "      <td>3</td>\n",
       "      <td>3</td>\n",
       "    </tr>\n",
       "    <tr>\n",
       "      <th>3</th>\n",
       "      <td>191216173241622</td>\n",
       "      <td>지니</td>\n",
       "      <td>eHBM셀파수학교실 회원용 리플렛-1세트 50권입</td>\n",
       "      <td>HB</td>\n",
       "      <td>2</td>\n",
       "      <td>30000</td>\n",
       "      <td>신용카드</td>\n",
       "      <td>2019-12-16 17:33:43</td>\n",
       "      <td>구매확정</td>\n",
       "      <td>N</td>\n",
       "      <td>NaN</td>\n",
       "      <td>NaN</td>\n",
       "      <td>1</td>\n",
       "      <td>3</td>\n",
       "      <td>3</td>\n",
       "    </tr>\n",
       "    <tr>\n",
       "      <th>4</th>\n",
       "      <td>191216173241622</td>\n",
       "      <td>지니</td>\n",
       "      <td>eHBM셀파수학교실-학습계통도(중등 5종)</td>\n",
       "      <td>HB</td>\n",
       "      <td>1</td>\n",
       "      <td>750</td>\n",
       "      <td>신용카드</td>\n",
       "      <td>2019-12-16 17:33:43</td>\n",
       "      <td>구매확정</td>\n",
       "      <td>N</td>\n",
       "      <td>NaN</td>\n",
       "      <td>NaN</td>\n",
       "      <td>1</td>\n",
       "      <td>3</td>\n",
       "      <td>3</td>\n",
       "    </tr>\n",
       "    <tr>\n",
       "      <th>...</th>\n",
       "      <td>...</td>\n",
       "      <td>...</td>\n",
       "      <td>...</td>\n",
       "      <td>...</td>\n",
       "      <td>...</td>\n",
       "      <td>...</td>\n",
       "      <td>...</td>\n",
       "      <td>...</td>\n",
       "      <td>...</td>\n",
       "      <td>...</td>\n",
       "      <td>...</td>\n",
       "      <td>...</td>\n",
       "      <td>...</td>\n",
       "      <td>...</td>\n",
       "      <td>...</td>\n",
       "    </tr>\n",
       "    <tr>\n",
       "      <th>218596</th>\n",
       "      <td>221108104041264</td>\n",
       "      <td>에이스디포</td>\n",
       "      <td>[스마트 HBE*초도] 입체 액자형 현판</td>\n",
       "      <td>에이스디포</td>\n",
       "      <td>1</td>\n",
       "      <td>35000</td>\n",
       "      <td>웰컴마일</td>\n",
       "      <td>2022-11-08 10:38:21</td>\n",
       "      <td>결제완료</td>\n",
       "      <td>Y</td>\n",
       "      <td>NaN</td>\n",
       "      <td>NaN</td>\n",
       "      <td>3</td>\n",
       "      <td>2</td>\n",
       "      <td>3</td>\n",
       "    </tr>\n",
       "    <tr>\n",
       "      <th>218597</th>\n",
       "      <td>221108104041264</td>\n",
       "      <td>에이스디포</td>\n",
       "      <td>[스마트 HBE*초도] 아크릴 사인</td>\n",
       "      <td>HB</td>\n",
       "      <td>1</td>\n",
       "      <td>26900</td>\n",
       "      <td>웰컴마일</td>\n",
       "      <td>2022-11-08 10:38:21</td>\n",
       "      <td>결제완료</td>\n",
       "      <td>Y</td>\n",
       "      <td>NaN</td>\n",
       "      <td>NaN</td>\n",
       "      <td>3</td>\n",
       "      <td>2</td>\n",
       "      <td>3</td>\n",
       "    </tr>\n",
       "    <tr>\n",
       "      <th>218598</th>\n",
       "      <td>221108104536307</td>\n",
       "      <td>에이스디포</td>\n",
       "      <td>[스마트 HBM] 아크릴 사인</td>\n",
       "      <td>HB</td>\n",
       "      <td>1</td>\n",
       "      <td>26900</td>\n",
       "      <td>신 + 포</td>\n",
       "      <td>2022-11-08 10:43:15</td>\n",
       "      <td>배송준비</td>\n",
       "      <td>N</td>\n",
       "      <td>NaN</td>\n",
       "      <td>NaN</td>\n",
       "      <td>3</td>\n",
       "      <td>2</td>\n",
       "      <td>3</td>\n",
       "    </tr>\n",
       "    <tr>\n",
       "      <th>218599</th>\n",
       "      <td>221108104735216</td>\n",
       "      <td>다우기술</td>\n",
       "      <td>[스타벅스] 아이스 카페 아메리카노 T</td>\n",
       "      <td>스타벅스</td>\n",
       "      <td>1</td>\n",
       "      <td>4050</td>\n",
       "      <td>포인트</td>\n",
       "      <td>2022-11-08 10:45:14</td>\n",
       "      <td>배송완료</td>\n",
       "      <td>N</td>\n",
       "      <td>NaN</td>\n",
       "      <td>NaN</td>\n",
       "      <td>3</td>\n",
       "      <td>3</td>\n",
       "      <td>3</td>\n",
       "    </tr>\n",
       "    <tr>\n",
       "      <th>218600</th>\n",
       "      <td>221108105148171</td>\n",
       "      <td>다우기술</td>\n",
       "      <td>[특별한 크리스마스] 2차-신세계 상품권 모바일 교환권-1만원권</td>\n",
       "      <td>신세계</td>\n",
       "      <td>17</td>\n",
       "      <td>161500</td>\n",
       "      <td>신용카드</td>\n",
       "      <td>2022-11-08 10:49:28</td>\n",
       "      <td>배송완료</td>\n",
       "      <td>N</td>\n",
       "      <td>NaN</td>\n",
       "      <td>NaN</td>\n",
       "      <td>3</td>\n",
       "      <td>3</td>\n",
       "      <td>3</td>\n",
       "    </tr>\n",
       "  </tbody>\n",
       "</table>\n",
       "<p>218601 rows × 15 columns</p>\n",
       "</div>"
      ],
      "text/plain": [
       "                   주문번호    업체명                                  상품명    제조사  \\\n",
       "0       191213170236874     지니            eHBM셀파수학교실 비닐봉투-1세트 100장입     HB   \n",
       "1       191216100347429     지니            eHBM셀파수학교실 비닐봉투-1세트 100장입     HB   \n",
       "2       191216100347429     지니             eHBM셀파수학교실 삼색볼펜-1세트 50개입     HB   \n",
       "3       191216173241622     지니          eHBM셀파수학교실 회원용 리플렛-1세트 50권입     HB   \n",
       "4       191216173241622     지니              eHBM셀파수학교실-학습계통도(중등 5종)     HB   \n",
       "...                 ...    ...                                  ...    ...   \n",
       "218596  221108104041264  에이스디포               [스마트 HBE*초도] 입체 액자형 현판  에이스디포   \n",
       "218597  221108104041264  에이스디포                  [스마트 HBE*초도] 아크릴 사인     HB   \n",
       "218598  221108104536307  에이스디포                     [스마트 HBM] 아크릴 사인     HB   \n",
       "218599  221108104735216   다우기술                [스타벅스] 아이스 카페 아메리카노 T   스타벅스   \n",
       "218600  221108105148171   다우기술  [특별한 크리스마스] 2차-신세계 상품권 모바일 교환권-1만원권    신세계   \n",
       "\n",
       "        주문수량    판매금액   결제방법                주문일자  처리상태 초도상품 제작문구 내역 할부기간  \\\n",
       "0          1    5000   신용카드 2019-12-13 17:03:37  구매확정    N     NaN  NaN   \n",
       "1          1    5000   신용카드 2019-12-16 10:04:50  구매확정    N     NaN  NaN   \n",
       "2          3   67500   신용카드 2019-12-16 10:04:50  구매확정    N     NaN  NaN   \n",
       "3          2   30000   신용카드 2019-12-16 17:33:43  구매확정    N     NaN  NaN   \n",
       "4          1     750   신용카드 2019-12-16 17:33:43  구매확정    N     NaN  NaN   \n",
       "...      ...     ...    ...                 ...   ...  ...     ...  ...   \n",
       "218596     1   35000   웰컴마일 2022-11-08 10:38:21  결제완료    Y     NaN  NaN   \n",
       "218597     1   26900   웰컴마일 2022-11-08 10:38:21  결제완료    Y     NaN  NaN   \n",
       "218598     1   26900  신 + 포 2022-11-08 10:43:15  배송준비    N     NaN  NaN   \n",
       "218599     1    4050    포인트 2022-11-08 10:45:14  배송완료    N     NaN  NaN   \n",
       "218600    17  161500   신용카드 2022-11-08 10:49:28  배송완료    N     NaN  NaN   \n",
       "\n",
       "       recency frequency monetary  \n",
       "0            1         3        3  \n",
       "1            1         3        3  \n",
       "2            1         3        3  \n",
       "3            1         3        3  \n",
       "4            1         3        3  \n",
       "...        ...       ...      ...  \n",
       "218596       3         2        3  \n",
       "218597       3         2        3  \n",
       "218598       3         2        3  \n",
       "218599       3         3        3  \n",
       "218600       3         3        3  \n",
       "\n",
       "[218601 rows x 15 columns]"
      ]
     },
     "execution_count": 274,
     "metadata": {},
     "output_type": "execute_result"
    }
   ],
   "source": [
    "p"
   ]
  },
  {
   "cell_type": "code",
   "execution_count": null,
   "id": "b2b241e9-15ba-4e0c-a4e3-b801cc61b3bc",
   "metadata": {},
   "outputs": [],
   "source": []
  },
  {
   "cell_type": "markdown",
   "id": "4ad090d5-11b5-494a-9087-f6dc0eabb1cd",
   "metadata": {},
   "source": [
    "### 카이제곱을 이용한 RFM 요소간 상관분석"
   ]
  },
  {
   "cell_type": "code",
   "execution_count": 277,
   "id": "c99881ac-a84b-4a39-b516-4c207f441d88",
   "metadata": {},
   "outputs": [
    {
     "name": "stdout",
     "output_type": "stream",
     "text": [
      "카이제곱 통계량: 3563.4392909855064\n",
      "p-value: 0.0\n"
     ]
    }
   ],
   "source": [
    "## H0: 두 변수간의 상관관계가 없다.\n",
    "## H1: 두 변수간의 상관관계가 있다.\n",
    "chi2_stat, p_val, dof, expected = chi2_contingency(pd.crosstab(p['recency'], p['frequency']))\n",
    "print(\"카이제곱 통계량:\", chi2_stat)\n",
    "print(\"p-value:\", p_val)\n",
    "## p-value의 값이 0.05보다 작으므로 귀무가설을 기각한다. 따라서 두 변수간의 상관관계가 있다.\n",
    "## 카이제곱 통계량: 3563.4392909855064\n",
    "# p-value: 0.0"
   ]
  },
  {
   "cell_type": "code",
   "execution_count": null,
   "id": "2a033f8e-df18-49b9-b6e9-cf0ea0aec769",
   "metadata": {},
   "outputs": [],
   "source": [
    "chi2_stat, p_val, dof, expected = chi2_contingency(pd.crosstab(p['recency'], p['monetary']))\n",
    "print(\"카이제곱 통계량:\", chi2_stat)\n",
    "print(\"p-value:\", p_val)\n",
    "## p-value의 값이 0.05보다 작으므로 귀무가설을 기각한다. 따라서 두 변수간의 상관관계가 있다.\n",
    "## 카이제곱 통계량: 1825.55885914474\n",
    "## p-value: 0.0"
   ]
  },
  {
   "cell_type": "code",
   "execution_count": 278,
   "id": "8cc30383-1a11-4427-ac5a-9a1a7d5bb117",
   "metadata": {},
   "outputs": [
    {
     "name": "stdout",
     "output_type": "stream",
     "text": [
      "카이제곱 통계량: 177125.0592794641\n",
      "p-value: 0.0\n"
     ]
    }
   ],
   "source": [
    "chi2_stat, p_val, dof, expected = chi2_contingency(pd.crosstab(p['frequency'], p['monetary']))\n",
    "print(\"카이제곱 통계량:\", chi2_stat)\n",
    "print(\"p-value:\", p_val)\n",
    "## p-value의 값이 0.05보다 작으므로 귀무가설을 기각한다. 따라서 두 변수간의 상관관계가 있다.\n",
    "## 카이제곱 통계량: 177125.0592794641\n",
    "## p-value: 0.0"
   ]
  },
  {
   "cell_type": "code",
   "execution_count": null,
   "id": "676f95a5-fa26-47e1-be52-a047a613d54b",
   "metadata": {},
   "outputs": [],
   "source": []
  },
  {
   "cell_type": "code",
   "execution_count": null,
   "id": "60232a02-2786-4e96-925c-6ebd5c10061c",
   "metadata": {},
   "outputs": [],
   "source": []
  },
  {
   "cell_type": "code",
   "execution_count": null,
   "id": "45617ce2-6874-46da-8528-eac9b2bd8659",
   "metadata": {},
   "outputs": [],
   "source": []
  },
  {
   "cell_type": "code",
   "execution_count": null,
   "id": "a10ff1c4-d840-41a1-84d2-f0b6ecc71911",
   "metadata": {
    "id": "a10ff1c4-d840-41a1-84d2-f0b6ecc71911"
   },
   "outputs": [],
   "source": [
    "# 억 단위 그룹 업체명 리스트 추출\n",
    "billion_group_shop_names = billion_group['업체명'].tolist()\n",
    "\n",
    "# 원본 데이터에서 억 단위 그룹 데이터만 필터링\n",
    "billion_group_shop_data = p[p['업체명'].isin(billion_group_shop_names)]\n",
    "\n",
    "# 현재 날짜 설정\n",
    "NOW = dt.datetime(2024,5,24)\n",
    "\n",
    "# RFM 데이터 계산\n",
    "rfmTable = billion_group_shop_data.groupby('업체명').agg({\n",
    "    '주문일자': lambda x: (NOW - x.max()).days, # Recency: '구매일자'가 최근 구매일을 나타내는 열이라고 가정\n",
    "    '업체명': lambda x: len(x),                   # Frequency\n",
    "    '판매금액': lambda x: x.sum()                  # Monetary Value\n",
    "})\n",
    "\n",
    "# 열 이름 변경\n",
    "rfmTable.rename(columns={'주문일자': 'recency',\n",
    "                         '업체명': 'frequency',\n",
    "                         '판매금액': 'monetary_value'}, inplace=True)"
   ]
  },
  {
   "cell_type": "code",
   "execution_count": null,
   "id": "75ded6c1-0c35-4a2f-9422-1e7db82bbccf",
   "metadata": {
    "colab": {
     "base_uri": "https://localhost:8080/",
     "height": 363
    },
    "id": "75ded6c1-0c35-4a2f-9422-1e7db82bbccf",
    "outputId": "f2823b70-98da-4f2e-ff33-458c73e5fcbd",
    "scrolled": true
   },
   "outputs": [],
   "source": [
    "rfmTable"
   ]
  },
  {
   "cell_type": "code",
   "execution_count": null,
   "id": "a2e8c5b0-1860-4c1b-8ea1-342af9ae8492",
   "metadata": {
    "id": "a2e8c5b0-1860-4c1b-8ea1-342af9ae8492"
   },
   "outputs": [],
   "source": [
    "# 천만 단위 그룹 업체명 리스트 추출\n",
    "ten_million_group_shop_names = ten_million_group['업체명'].tolist()\n",
    "\n",
    "# 원본 데이터에서 억 단위 그룹 데이터만 필터링\n",
    "ten_million_group_shop_data = p[p['업체명'].isin(ten_million_group_shop_names)]\n",
    "\n",
    "# 현재 날짜 설정\n",
    "NOW = dt.datetime(2024,5,24)\n",
    "\n",
    "# RFM 데이터 계산\n",
    "rfmTable2 = ten_million_group_shop_data.groupby('업체명').agg({\n",
    "    '주문일자': lambda x: (NOW - x.max()).days, # Recency: '구매일자'가 최근 구매일을 나타내는 열이라고 가정\n",
    "    '업체명': lambda x: len(x),                   # Frequency\n",
    "    '판매금액': lambda x: x.sum()                  # Monetary Value\n",
    "})\n",
    "\n",
    "# 열 이름 변경\n",
    "rfmTable2.rename(columns={'주문일자': 'recency',\n",
    "                         '업체명': 'frequency',\n",
    "                         '판매금액': 'monetary_value'}, inplace=True)"
   ]
  },
  {
   "cell_type": "code",
   "execution_count": null,
   "id": "e4ec1ebb-c829-4ece-b0df-d626c2a4e5d4",
   "metadata": {
    "colab": {
     "base_uri": "https://localhost:8080/",
     "height": 959
    },
    "id": "e4ec1ebb-c829-4ece-b0df-d626c2a4e5d4",
    "outputId": "54b2ebf8-5bb0-468a-b7a1-594b7e724920",
    "scrolled": true
   },
   "outputs": [],
   "source": [
    "rfmTable2"
   ]
  },
  {
   "cell_type": "code",
   "execution_count": null,
   "id": "9b12a30a-a517-43a4-92a6-3ed252c33451",
   "metadata": {
    "id": "9b12a30a-a517-43a4-92a6-3ed252c33451"
   },
   "outputs": [],
   "source": [
    "# 천만이하 단위 그룹 업체명 리스트 추출\n",
    "below_group_shop_names =below_group['업체명'].tolist()\n",
    "\n",
    "# 원본 데이터에서 억 단위 그룹 데이터만 필터링\n",
    "below_group_shop_data = p[p['업체명'].isin(below_group_shop_names)]\n",
    "\n",
    "# 현재 날짜 설정\n",
    "NOW = dt.datetime(2024,5,24)\n",
    "\n",
    "# RFM 데이터 계산\n",
    "rfmTable3 = below_group_shop_data.groupby('업체명').agg({\n",
    "    '주문일자': lambda x: (NOW - x.max()).days, # Recency: '구매일자'가 최근 구매일을 나타내는 열이라고 가정\n",
    "    '업체명': lambda x: len(x),                   # Frequency\n",
    "    '판매금액': lambda x: x.sum()                  # Monetary Value\n",
    "})\n",
    "# 열 이름 변경\n",
    "rfmTable3.rename(columns={'주문일자': 'recency',\n",
    "                         '업체명': 'frequency',\n",
    "                         '판매금액': 'monetary_value'}, inplace=True)"
   ]
  },
  {
   "cell_type": "code",
   "execution_count": null,
   "id": "316c4894-f1bf-4f1c-b149-961d2a05d106",
   "metadata": {
    "colab": {
     "base_uri": "https://localhost:8080/",
     "height": 1000
    },
    "id": "316c4894-f1bf-4f1c-b149-961d2a05d106",
    "outputId": "4796302e-2f78-4862-9a12-6b2a75aa1b66",
    "scrolled": true
   },
   "outputs": [],
   "source": [
    "rfmTable3"
   ]
  },
  {
   "cell_type": "code",
   "execution_count": null,
   "id": "3a25ddf7-6fac-4e3e-b4e8-7fbc40351271",
   "metadata": {
    "id": "3a25ddf7-6fac-4e3e-b4e8-7fbc40351271"
   },
   "outputs": [],
   "source": []
  },
  {
   "cell_type": "markdown",
   "id": "368ccf5c-0b63-4c2e-a5f4-234fa0595187",
   "metadata": {
    "id": "368ccf5c-0b63-4c2e-a5f4-234fa0595187"
   },
   "source": [
    "### R : 그룹별 최근 구매한 업체"
   ]
  },
  {
   "cell_type": "code",
   "execution_count": null,
   "id": "a3804c30-29b7-43ab-a906-dbc9822f95c8",
   "metadata": {
    "colab": {
     "base_uri": "https://localhost:8080/",
     "height": 230
    },
    "id": "a3804c30-29b7-43ab-a906-dbc9822f95c8",
    "outputId": "bba58c55-8e62-4235-a606-cca6bccc44af"
   },
   "outputs": [],
   "source": [
    "latest_order_dates = p.loc[idx]\n",
    "latest_order_dates"
   ]
  },
  {
   "cell_type": "code",
   "execution_count": null,
   "id": "df11782d-1fcf-4595-bfad-59ba292fe58d",
   "metadata": {
    "id": "df11782d-1fcf-4595-bfad-59ba292fe58d"
   },
   "outputs": [],
   "source": []
  },
  {
   "cell_type": "markdown",
   "id": "2ee334eb-7f14-4f17-bb43-f830af9e4a65",
   "metadata": {
    "id": "2ee334eb-7f14-4f17-bb43-f830af9e4a65"
   },
   "source": [
    "### F : 각 그룹 빈도수 비교 그래프"
   ]
  },
  {
   "cell_type": "code",
   "execution_count": 160,
   "id": "bf0dd81d-c0b9-40e9-8f40-fc63102a85d2",
   "metadata": {
    "colab": {
     "base_uri": "https://localhost:8080/"
    },
    "id": "bf0dd81d-c0b9-40e9-8f40-fc63102a85d2",
    "outputId": "6c7f93fa-efb5-4e9b-c33e-3fc09a70a136"
   },
   "outputs": [
    {
     "data": {
      "text/plain": [
       "191238"
      ]
     },
     "execution_count": 160,
     "metadata": {},
     "output_type": "execute_result"
    }
   ],
   "source": [
    "rfmTable['frequency'].sum() #rfmTable(억단위) 빈도수 합"
   ]
  },
  {
   "cell_type": "code",
   "execution_count": 161,
   "id": "83419cef-b2a4-40a3-805d-ee4efbf0e86f",
   "metadata": {
    "colab": {
     "base_uri": "https://localhost:8080/"
    },
    "id": "83419cef-b2a4-40a3-805d-ee4efbf0e86f",
    "outputId": "86ef48f6-4819-45dc-d60e-4189ed430767"
   },
   "outputs": [
    {
     "data": {
      "text/plain": [
       "23508"
      ]
     },
     "execution_count": 161,
     "metadata": {},
     "output_type": "execute_result"
    }
   ],
   "source": [
    "rfmTable2['frequency'].sum() #rfmTable2(천만 단위) 빈도수 합"
   ]
  },
  {
   "cell_type": "code",
   "execution_count": 162,
   "id": "b159b659-81cd-4204-a9ed-52a5fb8836f1",
   "metadata": {
    "colab": {
     "base_uri": "https://localhost:8080/"
    },
    "id": "b159b659-81cd-4204-a9ed-52a5fb8836f1",
    "outputId": "fa22e371-57d1-4ec3-98c8-89a241ce3e1d"
   },
   "outputs": [
    {
     "data": {
      "text/plain": [
       "3854"
      ]
     },
     "execution_count": 162,
     "metadata": {},
     "output_type": "execute_result"
    }
   ],
   "source": [
    "rfmTable3['frequency'].sum() #rfmTable3(그 이하) 빈도수 합"
   ]
  },
  {
   "cell_type": "code",
   "execution_count": 163,
   "id": "65af6916-ae1f-496e-a72b-32772d65b0d5",
   "metadata": {
    "id": "65af6916-ae1f-496e-a72b-32772d65b0d5"
   },
   "outputs": [],
   "source": [
    "group_frequency = pd.DataFrame({ 'monetary' : ['3','2','1'],\n",
    "                                 '빈도수' : [191238, 23508, 3854]})\n",
    "\n",
    "# 그룹별 빈도수 합 데이터프레임"
   ]
  },
  {
   "cell_type": "code",
   "execution_count": 164,
   "id": "5df8cb3c-50ce-48d5-9750-dba319ed644c",
   "metadata": {
    "colab": {
     "base_uri": "https://localhost:8080/",
     "height": 143
    },
    "id": "5df8cb3c-50ce-48d5-9750-dba319ed644c",
    "outputId": "719d89a4-9304-4f24-9035-9692b9f7c5d7"
   },
   "outputs": [
    {
     "data": {
      "text/html": [
       "<div>\n",
       "<style scoped>\n",
       "    .dataframe tbody tr th:only-of-type {\n",
       "        vertical-align: middle;\n",
       "    }\n",
       "\n",
       "    .dataframe tbody tr th {\n",
       "        vertical-align: top;\n",
       "    }\n",
       "\n",
       "    .dataframe thead th {\n",
       "        text-align: right;\n",
       "    }\n",
       "</style>\n",
       "<table border=\"1\" class=\"dataframe\">\n",
       "  <thead>\n",
       "    <tr style=\"text-align: right;\">\n",
       "      <th></th>\n",
       "      <th>monetary</th>\n",
       "      <th>빈도수</th>\n",
       "    </tr>\n",
       "  </thead>\n",
       "  <tbody>\n",
       "    <tr>\n",
       "      <th>0</th>\n",
       "      <td>3</td>\n",
       "      <td>191238</td>\n",
       "    </tr>\n",
       "    <tr>\n",
       "      <th>1</th>\n",
       "      <td>2</td>\n",
       "      <td>23508</td>\n",
       "    </tr>\n",
       "    <tr>\n",
       "      <th>2</th>\n",
       "      <td>1</td>\n",
       "      <td>3854</td>\n",
       "    </tr>\n",
       "  </tbody>\n",
       "</table>\n",
       "</div>"
      ],
      "text/plain": [
       "  monetary     빈도수\n",
       "0        3  191238\n",
       "1        2   23508\n",
       "2        1    3854"
      ]
     },
     "execution_count": 164,
     "metadata": {},
     "output_type": "execute_result"
    }
   ],
   "source": [
    "group_frequency"
   ]
  },
  {
   "cell_type": "code",
   "execution_count": 165,
   "id": "bc3b67ff-48b9-473f-b377-028b50613404",
   "metadata": {
    "colab": {
     "base_uri": "https://localhost:8080/",
     "height": 1000
    },
    "id": "bc3b67ff-48b9-473f-b377-028b50613404",
    "outputId": "37a46554-275c-46c7-a351-ab04a6999db5",
    "scrolled": true
   },
   "outputs": [
    {
     "data": {
      "text/plain": [
       "Text(0, 0.5, '빈도수(단위:만)')"
      ]
     },
     "execution_count": 165,
     "metadata": {},
     "output_type": "execute_result"
    },
    {
     "data": {
      "image/png": "[encoded data removed]",
      "text/plain": [
       "<Figure size 640x480 with 1 Axes>"
      ]
     },
     "metadata": {},
     "output_type": "display_data"
    }
   ],
   "source": [
    "\n",
    "sns.barplot( data = group_frequency , x = 'monetary' , y = '빈도수')\n",
    "\n",
    "plt.yticks([50000,100000,150000,200000],  #만 단위로 y축 눈금 설정\n",
    "           [5,10,15,20])\n",
    "\n",
    "# 제목을 정합니다.\n",
    "plt.title('그룹별 빈도수')\n",
    "\n",
    "# X축, Y축을 정의합니다.\n",
    "plt.xlabel('monetary')\n",
    "plt.ylabel('빈도수(단위:만)')"
   ]
  },
  {
   "cell_type": "code",
   "execution_count": null,
   "id": "414ab6fa-8355-4535-988a-0194421adef1",
   "metadata": {
    "id": "414ab6fa-8355-4535-988a-0194421adef1"
   },
   "outputs": [],
   "source": []
  },
  {
   "cell_type": "markdown",
   "id": "91339bac-3cee-49b4-8e37-504876312387",
   "metadata": {
    "id": "91339bac-3cee-49b4-8e37-504876312387"
   },
   "source": [
    "### M : 각 그룹 지출 평균 비교 그래프"
   ]
  },
  {
   "cell_type": "code",
   "execution_count": 166,
   "id": "afa82882-7634-4439-9e83-521ca8773a23",
   "metadata": {
    "colab": {
     "base_uri": "https://localhost:8080/"
    },
    "id": "afa82882-7634-4439-9e83-521ca8773a23",
    "outputId": "98677261-1e64-4e41-d12b-bab3a45fe2fb"
   },
   "outputs": [
    {
     "data": {
      "text/plain": [
       "1187895065.6666667"
      ]
     },
     "execution_count": 166,
     "metadata": {},
     "output_type": "execute_result"
    }
   ],
   "source": [
    "rfmTable['monetary_value'].mean()  #rfmTable(억단위) 판매금액 평균"
   ]
  },
  {
   "cell_type": "code",
   "execution_count": 167,
   "id": "ef35496a-1d4f-4914-9793-b6c69e7615ed",
   "metadata": {
    "colab": {
     "base_uri": "https://localhost:8080/"
    },
    "id": "ef35496a-1d4f-4914-9793-b6c69e7615ed",
    "outputId": "206e1d94-13df-48c1-ba60-d6c5ac5bd8bd"
   },
   "outputs": [
    {
     "data": {
      "text/plain": [
       "25735350.85714286"
      ]
     },
     "execution_count": 167,
     "metadata": {},
     "output_type": "execute_result"
    }
   ],
   "source": [
    "rfmTable2['monetary_value'].mean() #rfmTable2(천만 단위) 판매금액 평균"
   ]
  },
  {
   "cell_type": "code",
   "execution_count": 168,
   "id": "cad3d88e-506d-41fc-b7dc-f6b1d3da2249",
   "metadata": {
    "colab": {
     "base_uri": "https://localhost:8080/"
    },
    "id": "cad3d88e-506d-41fc-b7dc-f6b1d3da2249",
    "outputId": "d1fd5dfa-2fed-4e23-b116-7bac77ab7664"
   },
   "outputs": [
    {
     "data": {
      "text/plain": [
       "2336831.153846154"
      ]
     },
     "execution_count": 168,
     "metadata": {},
     "output_type": "execute_result"
    }
   ],
   "source": [
    "rfmTable3['monetary_value'].mean() #rfmTable3(그 이하) 판매금액 평균"
   ]
  },
  {
   "cell_type": "code",
   "execution_count": 169,
   "id": "c51ca17a-11a5-43a9-8df6-1666a6ce920e",
   "metadata": {
    "id": "c51ca17a-11a5-43a9-8df6-1666a6ce920e"
   },
   "outputs": [],
   "source": [
    "group_seller = pd.DataFrame({ 'monetary' : ['3','2','1'],\n",
    "                                 '지출평균' : [1187895065, 25735350, 2336831]})\n",
    "\n",
    "# 그룹별 판매금액 평균 데이터프레임"
   ]
  },
  {
   "cell_type": "code",
   "execution_count": 170,
   "id": "117538f4-1a38-4801-a555-9d953b0d67dd",
   "metadata": {
    "colab": {
     "base_uri": "https://localhost:8080/",
     "height": 143
    },
    "id": "117538f4-1a38-4801-a555-9d953b0d67dd",
    "outputId": "14a4a735-8e94-46bc-9ac3-e1e646e5397a"
   },
   "outputs": [
    {
     "data": {
      "text/html": [
       "<div>\n",
       "<style scoped>\n",
       "    .dataframe tbody tr th:only-of-type {\n",
       "        vertical-align: middle;\n",
       "    }\n",
       "\n",
       "    .dataframe tbody tr th {\n",
       "        vertical-align: top;\n",
       "    }\n",
       "\n",
       "    .dataframe thead th {\n",
       "        text-align: right;\n",
       "    }\n",
       "</style>\n",
       "<table border=\"1\" class=\"dataframe\">\n",
       "  <thead>\n",
       "    <tr style=\"text-align: right;\">\n",
       "      <th></th>\n",
       "      <th>monetary</th>\n",
       "      <th>지출평균</th>\n",
       "    </tr>\n",
       "  </thead>\n",
       "  <tbody>\n",
       "    <tr>\n",
       "      <th>0</th>\n",
       "      <td>3</td>\n",
       "      <td>1187895065</td>\n",
       "    </tr>\n",
       "    <tr>\n",
       "      <th>1</th>\n",
       "      <td>2</td>\n",
       "      <td>25735350</td>\n",
       "    </tr>\n",
       "    <tr>\n",
       "      <th>2</th>\n",
       "      <td>1</td>\n",
       "      <td>2336831</td>\n",
       "    </tr>\n",
       "  </tbody>\n",
       "</table>\n",
       "</div>"
      ],
      "text/plain": [
       "  monetary        지출평균\n",
       "0        3  1187895065\n",
       "1        2    25735350\n",
       "2        1     2336831"
      ]
     },
     "execution_count": 170,
     "metadata": {},
     "output_type": "execute_result"
    }
   ],
   "source": [
    "group_seller"
   ]
  },
  {
   "cell_type": "code",
   "execution_count": 171,
   "id": "3ce3f62d-1418-4c2e-ab5c-da082380c19a",
   "metadata": {
    "colab": {
     "base_uri": "https://localhost:8080/",
     "height": 1000
    },
    "id": "3ce3f62d-1418-4c2e-ab5c-da082380c19a",
    "outputId": "e0de1ea2-e80d-4af2-c229-d086fd8632ff"
   },
   "outputs": [
    {
     "data": {
      "text/plain": [
       "Text(0, 0.5, '빈도수(단위:억)')"
      ]
     },
     "execution_count": 171,
     "metadata": {},
     "output_type": "execute_result"
    },
    {
     "data": {
      "image/png": "[encoded data removed]",
      "text/plain": [
       "<Figure size 640x480 with 1 Axes>"
      ]
     },
     "metadata": {},
     "output_type": "display_data"
    }
   ],
   "source": [
    "sns.barplot( data = group_seller , x = 'monetary' , y = '지출평균')\n",
    "plt.yticks([500000000,1000000000,1500000000],\n",
    "           [5,10,15])\n",
    "\n",
    "# 제목을 정합니다.\n",
    "plt.title('그룹별 빈도수')\n",
    "\n",
    "# X축, Y축을 정의합니다.\n",
    "plt.xlabel('그룹')\n",
    "plt.ylabel('빈도수(단위:억)')"
   ]
  },
  {
   "cell_type": "markdown",
   "id": "a57686f3-eb13-415e-8438-41a0f834b1e1",
   "metadata": {
    "id": "a57686f3-eb13-415e-8438-41a0f834b1e1"
   },
   "source": [
    "### M : 그룹별 판매금액 boxplot"
   ]
  },
  {
   "cell_type": "code",
   "execution_count": 172,
   "id": "47c93d7c-481f-4ece-bebb-c8e54e07441b",
   "metadata": {
    "colab": {
     "base_uri": "https://localhost:8080/",
     "height": 1000
    },
    "id": "47c93d7c-481f-4ece-bebb-c8e54e07441b",
    "outputId": "8b6b961c-b48f-4f95-d1bf-7673e06e2613"
   },
   "outputs": [
    {
     "name": "stderr",
     "output_type": "stream",
     "text": [
      "C:\\ProgramData\\anaconda3\\Lib\\site-packages\\seaborn\\categorical.py:641: FutureWarning: The default of observed=False is deprecated and will be changed to True in a future version of pandas. Pass observed=False to retain current behavior or observed=True to adopt the future default and silence this warning.\n",
      "  grouped_vals = vals.groupby(grouper)\n"
     ]
    },
    {
     "data": {
      "text/plain": [
       "Text(0, 0.5, '판매금액(단위:백만)')"
      ]
     },
     "execution_count": 172,
     "metadata": {},
     "output_type": "execute_result"
    },
    {
     "data": {
      "image/png": "[encoded data removed]",
      "text/plain": [
       "<Figure size 640x480 with 1 Axes>"
      ]
     },
     "metadata": {},
     "output_type": "display_data"
    }
   ],
   "source": [
    "sns.boxplot( data = p, x = 'monetary' , y = '판매금액')\n",
    "plt.yticks([0,2000000,4000000,6000000,8000000,10000000,12000000,14000000,16000000, 18000000,20000000],\n",
    "           [0,2,4,6,8,10,12,14,16,18,20])\n",
    "\n",
    "# 제목을 정합니다.\n",
    "plt.title('monetary 판매금액')\n",
    "\n",
    "# X축, Y축을 정의합니다.\n",
    "plt.xlabel('monetary')\n",
    "plt.ylabel('판매금액(단위:백만)')"
   ]
  },
  {
   "cell_type": "code",
   "execution_count": 173,
   "id": "0549d5b4-a651-4878-9391-ad0b3b661c74",
   "metadata": {
    "colab": {
     "base_uri": "https://localhost:8080/"
    },
    "id": "0549d5b4-a651-4878-9391-ad0b3b661c74",
    "outputId": "5261dd5c-65c0-4e41-e7f1-a08ad5a410d9"
   },
   "outputs": [
    {
     "data": {
      "text/plain": [
       "3520800"
      ]
     },
     "execution_count": 173,
     "metadata": {},
     "output_type": "execute_result"
    }
   ],
   "source": [
    "p[p['monetary'] == '2']['판매금액'].max()"
   ]
  },
  {
   "cell_type": "markdown",
   "id": "7eb74e9c-ffc8-4e7b-b290-e4654d698095",
   "metadata": {
    "id": "7eb74e9c-ffc8-4e7b-b290-e4654d698095"
   },
   "source": [
    "### 각 그룹에서 가장 많이 팔린 상품은 ?"
   ]
  },
  {
   "cell_type": "code",
   "execution_count": 174,
   "id": "e18e933b-1566-44e2-827c-918d4ab0e1bc",
   "metadata": {
    "id": "e18e933b-1566-44e2-827c-918d4ab0e1bc"
   },
   "outputs": [
    {
     "name": "stderr",
     "output_type": "stream",
     "text": [
      "C:\\Users\\user\\AppData\\Local\\Temp\\ipykernel_3024\\2523226237.py:2: SettingWithCopyWarning: \n",
      "A value is trying to be set on a copy of a slice from a DataFrame.\n",
      "Try using .loc[row_indexer,col_indexer] = value instead\n",
      "\n",
      "See the caveats in the documentation: https://pandas.pydata.org/pandas-docs/stable/user_guide/indexing.html#returning-a-view-versus-a-copy\n",
      "  billion['주문일자'] = billion['주문일자'].apply(lambda x: str(x)[:11])\n"
     ]
    }
   ],
   "source": [
    "billion = p[p['monetary'] == '3'] # p에서 억단위 그룹만추출\n",
    "billion['주문일자'] = billion['주문일자'].apply(lambda x: str(x)[:11])"
   ]
  },
  {
   "cell_type": "code",
   "execution_count": 175,
   "id": "199907d9-e79b-4a95-88f7-8d8550e07b87",
   "metadata": {
    "colab": {
     "base_uri": "https://localhost:8080/",
     "height": 615
    },
    "id": "199907d9-e79b-4a95-88f7-8d8550e07b87",
    "outputId": "ee6082d4-e897-40d8-bba4-9e3c38804090"
   },
   "outputs": [
    {
     "data": {
      "text/html": [
       "<div>\n",
       "<style scoped>\n",
       "    .dataframe tbody tr th:only-of-type {\n",
       "        vertical-align: middle;\n",
       "    }\n",
       "\n",
       "    .dataframe tbody tr th {\n",
       "        vertical-align: top;\n",
       "    }\n",
       "\n",
       "    .dataframe thead th {\n",
       "        text-align: right;\n",
       "    }\n",
       "</style>\n",
       "<table border=\"1\" class=\"dataframe\">\n",
       "  <thead>\n",
       "    <tr style=\"text-align: right;\">\n",
       "      <th></th>\n",
       "      <th>주문번호</th>\n",
       "      <th>업체명</th>\n",
       "      <th>상품명</th>\n",
       "      <th>제조사</th>\n",
       "      <th>주문수량</th>\n",
       "      <th>판매금액</th>\n",
       "      <th>결제방법</th>\n",
       "      <th>주문일자</th>\n",
       "      <th>처리상태</th>\n",
       "      <th>초도상품</th>\n",
       "      <th>제작문구 내역</th>\n",
       "      <th>할부기간</th>\n",
       "      <th>recency</th>\n",
       "      <th>frequency</th>\n",
       "      <th>monetary</th>\n",
       "    </tr>\n",
       "  </thead>\n",
       "  <tbody>\n",
       "    <tr>\n",
       "      <th>0</th>\n",
       "      <td>191213170236874</td>\n",
       "      <td>지니</td>\n",
       "      <td>eHBM셀파수학교실 비닐봉투-1세트 100장입</td>\n",
       "      <td>HB</td>\n",
       "      <td>1</td>\n",
       "      <td>5000</td>\n",
       "      <td>신용카드</td>\n",
       "      <td>2019-12-13</td>\n",
       "      <td>구매확정</td>\n",
       "      <td>N</td>\n",
       "      <td>NaN</td>\n",
       "      <td>NaN</td>\n",
       "      <td>1</td>\n",
       "      <td>3</td>\n",
       "      <td>3</td>\n",
       "    </tr>\n",
       "    <tr>\n",
       "      <th>1</th>\n",
       "      <td>191216100347429</td>\n",
       "      <td>지니</td>\n",
       "      <td>eHBM셀파수학교실 비닐봉투-1세트 100장입</td>\n",
       "      <td>HB</td>\n",
       "      <td>1</td>\n",
       "      <td>5000</td>\n",
       "      <td>신용카드</td>\n",
       "      <td>2019-12-16</td>\n",
       "      <td>구매확정</td>\n",
       "      <td>N</td>\n",
       "      <td>NaN</td>\n",
       "      <td>NaN</td>\n",
       "      <td>1</td>\n",
       "      <td>3</td>\n",
       "      <td>3</td>\n",
       "    </tr>\n",
       "    <tr>\n",
       "      <th>2</th>\n",
       "      <td>191216100347429</td>\n",
       "      <td>지니</td>\n",
       "      <td>eHBM셀파수학교실 삼색볼펜-1세트 50개입</td>\n",
       "      <td>HB</td>\n",
       "      <td>3</td>\n",
       "      <td>67500</td>\n",
       "      <td>신용카드</td>\n",
       "      <td>2019-12-16</td>\n",
       "      <td>구매확정</td>\n",
       "      <td>N</td>\n",
       "      <td>NaN</td>\n",
       "      <td>NaN</td>\n",
       "      <td>1</td>\n",
       "      <td>3</td>\n",
       "      <td>3</td>\n",
       "    </tr>\n",
       "    <tr>\n",
       "      <th>3</th>\n",
       "      <td>191216173241622</td>\n",
       "      <td>지니</td>\n",
       "      <td>eHBM셀파수학교실 회원용 리플렛-1세트 50권입</td>\n",
       "      <td>HB</td>\n",
       "      <td>2</td>\n",
       "      <td>30000</td>\n",
       "      <td>신용카드</td>\n",
       "      <td>2019-12-16</td>\n",
       "      <td>구매확정</td>\n",
       "      <td>N</td>\n",
       "      <td>NaN</td>\n",
       "      <td>NaN</td>\n",
       "      <td>1</td>\n",
       "      <td>3</td>\n",
       "      <td>3</td>\n",
       "    </tr>\n",
       "    <tr>\n",
       "      <th>4</th>\n",
       "      <td>191216173241622</td>\n",
       "      <td>지니</td>\n",
       "      <td>eHBM셀파수학교실-학습계통도(중등 5종)</td>\n",
       "      <td>HB</td>\n",
       "      <td>1</td>\n",
       "      <td>750</td>\n",
       "      <td>신용카드</td>\n",
       "      <td>2019-12-16</td>\n",
       "      <td>구매확정</td>\n",
       "      <td>N</td>\n",
       "      <td>NaN</td>\n",
       "      <td>NaN</td>\n",
       "      <td>1</td>\n",
       "      <td>3</td>\n",
       "      <td>3</td>\n",
       "    </tr>\n",
       "    <tr>\n",
       "      <th>...</th>\n",
       "      <td>...</td>\n",
       "      <td>...</td>\n",
       "      <td>...</td>\n",
       "      <td>...</td>\n",
       "      <td>...</td>\n",
       "      <td>...</td>\n",
       "      <td>...</td>\n",
       "      <td>...</td>\n",
       "      <td>...</td>\n",
       "      <td>...</td>\n",
       "      <td>...</td>\n",
       "      <td>...</td>\n",
       "      <td>...</td>\n",
       "      <td>...</td>\n",
       "      <td>...</td>\n",
       "    </tr>\n",
       "    <tr>\n",
       "      <th>218596</th>\n",
       "      <td>221108104041264</td>\n",
       "      <td>에이스디포</td>\n",
       "      <td>[스마트 HBE*초도] 입체 액자형 현판</td>\n",
       "      <td>에이스디포</td>\n",
       "      <td>1</td>\n",
       "      <td>35000</td>\n",
       "      <td>웰컴마일</td>\n",
       "      <td>2022-11-08</td>\n",
       "      <td>결제완료</td>\n",
       "      <td>Y</td>\n",
       "      <td>NaN</td>\n",
       "      <td>NaN</td>\n",
       "      <td>3</td>\n",
       "      <td>2</td>\n",
       "      <td>3</td>\n",
       "    </tr>\n",
       "    <tr>\n",
       "      <th>218597</th>\n",
       "      <td>221108104041264</td>\n",
       "      <td>에이스디포</td>\n",
       "      <td>[스마트 HBE*초도] 아크릴 사인</td>\n",
       "      <td>HB</td>\n",
       "      <td>1</td>\n",
       "      <td>26900</td>\n",
       "      <td>웰컴마일</td>\n",
       "      <td>2022-11-08</td>\n",
       "      <td>결제완료</td>\n",
       "      <td>Y</td>\n",
       "      <td>NaN</td>\n",
       "      <td>NaN</td>\n",
       "      <td>3</td>\n",
       "      <td>2</td>\n",
       "      <td>3</td>\n",
       "    </tr>\n",
       "    <tr>\n",
       "      <th>218598</th>\n",
       "      <td>221108104536307</td>\n",
       "      <td>에이스디포</td>\n",
       "      <td>[스마트 HBM] 아크릴 사인</td>\n",
       "      <td>HB</td>\n",
       "      <td>1</td>\n",
       "      <td>26900</td>\n",
       "      <td>신 + 포</td>\n",
       "      <td>2022-11-08</td>\n",
       "      <td>배송준비</td>\n",
       "      <td>N</td>\n",
       "      <td>NaN</td>\n",
       "      <td>NaN</td>\n",
       "      <td>3</td>\n",
       "      <td>2</td>\n",
       "      <td>3</td>\n",
       "    </tr>\n",
       "    <tr>\n",
       "      <th>218599</th>\n",
       "      <td>221108104735216</td>\n",
       "      <td>다우기술</td>\n",
       "      <td>[스타벅스] 아이스 카페 아메리카노 T</td>\n",
       "      <td>스타벅스</td>\n",
       "      <td>1</td>\n",
       "      <td>4050</td>\n",
       "      <td>포인트</td>\n",
       "      <td>2022-11-08</td>\n",
       "      <td>배송완료</td>\n",
       "      <td>N</td>\n",
       "      <td>NaN</td>\n",
       "      <td>NaN</td>\n",
       "      <td>3</td>\n",
       "      <td>3</td>\n",
       "      <td>3</td>\n",
       "    </tr>\n",
       "    <tr>\n",
       "      <th>218600</th>\n",
       "      <td>221108105148171</td>\n",
       "      <td>다우기술</td>\n",
       "      <td>[특별한 크리스마스] 2차-신세계 상품권 모바일 교환권-1만원권</td>\n",
       "      <td>신세계</td>\n",
       "      <td>17</td>\n",
       "      <td>161500</td>\n",
       "      <td>신용카드</td>\n",
       "      <td>2022-11-08</td>\n",
       "      <td>배송완료</td>\n",
       "      <td>N</td>\n",
       "      <td>NaN</td>\n",
       "      <td>NaN</td>\n",
       "      <td>3</td>\n",
       "      <td>3</td>\n",
       "      <td>3</td>\n",
       "    </tr>\n",
       "  </tbody>\n",
       "</table>\n",
       "<p>191238 rows × 15 columns</p>\n",
       "</div>"
      ],
      "text/plain": [
       "                   주문번호    업체명                                  상품명    제조사  \\\n",
       "0       191213170236874     지니            eHBM셀파수학교실 비닐봉투-1세트 100장입     HB   \n",
       "1       191216100347429     지니            eHBM셀파수학교실 비닐봉투-1세트 100장입     HB   \n",
       "2       191216100347429     지니             eHBM셀파수학교실 삼색볼펜-1세트 50개입     HB   \n",
       "3       191216173241622     지니          eHBM셀파수학교실 회원용 리플렛-1세트 50권입     HB   \n",
       "4       191216173241622     지니              eHBM셀파수학교실-학습계통도(중등 5종)     HB   \n",
       "...                 ...    ...                                  ...    ...   \n",
       "218596  221108104041264  에이스디포               [스마트 HBE*초도] 입체 액자형 현판  에이스디포   \n",
       "218597  221108104041264  에이스디포                  [스마트 HBE*초도] 아크릴 사인     HB   \n",
       "218598  221108104536307  에이스디포                     [스마트 HBM] 아크릴 사인     HB   \n",
       "218599  221108104735216   다우기술                [스타벅스] 아이스 카페 아메리카노 T   스타벅스   \n",
       "218600  221108105148171   다우기술  [특별한 크리스마스] 2차-신세계 상품권 모바일 교환권-1만원권    신세계   \n",
       "\n",
       "        주문수량    판매금액   결제방법         주문일자  처리상태 초도상품 제작문구 내역 할부기간 recency  \\\n",
       "0          1    5000   신용카드  2019-12-13   구매확정    N     NaN  NaN       1   \n",
       "1          1    5000   신용카드  2019-12-16   구매확정    N     NaN  NaN       1   \n",
       "2          3   67500   신용카드  2019-12-16   구매확정    N     NaN  NaN       1   \n",
       "3          2   30000   신용카드  2019-12-16   구매확정    N     NaN  NaN       1   \n",
       "4          1     750   신용카드  2019-12-16   구매확정    N     NaN  NaN       1   \n",
       "...      ...     ...    ...          ...   ...  ...     ...  ...     ...   \n",
       "218596     1   35000   웰컴마일  2022-11-08   결제완료    Y     NaN  NaN       3   \n",
       "218597     1   26900   웰컴마일  2022-11-08   결제완료    Y     NaN  NaN       3   \n",
       "218598     1   26900  신 + 포  2022-11-08   배송준비    N     NaN  NaN       3   \n",
       "218599     1    4050    포인트  2022-11-08   배송완료    N     NaN  NaN       3   \n",
       "218600    17  161500   신용카드  2022-11-08   배송완료    N     NaN  NaN       3   \n",
       "\n",
       "       frequency monetary  \n",
       "0              3        3  \n",
       "1              3        3  \n",
       "2              3        3  \n",
       "3              3        3  \n",
       "4              3        3  \n",
       "...          ...      ...  \n",
       "218596         2        3  \n",
       "218597         2        3  \n",
       "218598         2        3  \n",
       "218599         3        3  \n",
       "218600         3        3  \n",
       "\n",
       "[191238 rows x 15 columns]"
      ]
     },
     "execution_count": 175,
     "metadata": {},
     "output_type": "execute_result"
    }
   ],
   "source": [
    "billion"
   ]
  },
  {
   "cell_type": "code",
   "execution_count": 176,
   "id": "38fb5779-fda1-4fbd-8083-d39d4f87106e",
   "metadata": {
    "colab": {
     "base_uri": "https://localhost:8080/"
    },
    "id": "38fb5779-fda1-4fbd-8083-d39d4f87106e",
    "outputId": "4a7cb11b-ba4d-4721-a623-d68c2826ad3a"
   },
   "outputs": [
    {
     "data": {
      "text/plain": [
       "상품명\n",
       "[신세계] 신세계 상품권-1만원권                                   3443\n",
       "[신세계] 신세계 상품권-4만원권                                   2298\n",
       "[CU] 모바일 금액권-5천원권                                    1951\n",
       "[신세계] 신세계 상품권-5천원권                                   1652\n",
       "[주간특가] 엑스포트  복사용지 A4용지 75g-1Box 2,500매입+기본 배송비 포함    1501\n",
       "                                                     ... \n",
       "[복사용지]삼성프리미엄 B4 75g 1BOX(2500매)                         1\n",
       "[학생선물] 10000 문교 유성매직 둥근닙 12색                            1\n",
       "[시원달달특가!] 폴바셋 아이스 시나몬 라떼(Standard)                      1\n",
       "[학생선물] 요술풍선 만들기                                         1\n",
       "[학생선물] 크리스마스 무릎담요 (랜덤발송)                                1\n",
       "Name: count, Length: 7110, dtype: int64"
      ]
     },
     "execution_count": 176,
     "metadata": {},
     "output_type": "execute_result"
    }
   ],
   "source": [
    "billion['상품명'].value_counts() # 억 단위 상품 중 가장 많이 팔린 것과 개수"
   ]
  },
  {
   "cell_type": "code",
   "execution_count": 224,
   "id": "15257b90-eb35-4862-98f4-ff78fe2931ca",
   "metadata": {},
   "outputs": [
    {
     "data": {
      "text/plain": [
       "상품명\n",
       "[신세계] 신세계 상품권-1만원권    3443\n",
       "[신세계] 신세계 상품권-4만원권    2298\n",
       "[CU] 모바일 금액권-5천원권     1951\n",
       "Name: count, dtype: int64"
      ]
     },
     "execution_count": 224,
     "metadata": {},
     "output_type": "execute_result"
    }
   ],
   "source": [
    "billion['상품명'].value_counts().head(3) # 억 단위 상품 중 가장 많이 상품 top3"
   ]
  },
  {
   "cell_type": "code",
   "execution_count": 222,
   "id": "0e3425cf-cefb-4b3d-ba10-06a2043e1896",
   "metadata": {},
   "outputs": [
    {
     "data": {
      "text/plain": [
       "191225"
      ]
     },
     "execution_count": 222,
     "metadata": {},
     "output_type": "execute_result"
    }
   ],
   "source": [
    "billion['상품명'].value_counts().sum()"
   ]
  },
  {
   "cell_type": "code",
   "execution_count": 216,
   "id": "37986009-19ac-4337-88af-5be8b48946b6",
   "metadata": {},
   "outputs": [],
   "source": [
    "billion_best = billion['상품명'].value_counts().head(3)"
   ]
  },
  {
   "cell_type": "code",
   "execution_count": 217,
   "id": "ea08d53f-205e-4329-8d4a-c4c980982fc6",
   "metadata": {},
   "outputs": [
    {
     "data": {
      "text/plain": [
       "상품명\n",
       "[신세계] 신세계 상품권-1만원권    3443\n",
       "[신세계] 신세계 상품권-4만원권    2298\n",
       "[CU] 모바일 금액권-5천원권     1951\n",
       "Name: count, dtype: int64"
      ]
     },
     "execution_count": 217,
     "metadata": {},
     "output_type": "execute_result"
    }
   ],
   "source": [
    "billion_best"
   ]
  },
  {
   "cell_type": "code",
   "execution_count": 225,
   "id": "e47875d8-8b30-4850-9c37-b601c4998903",
   "metadata": {},
   "outputs": [
    {
     "data": {
      "image/png": "[encoded data removed]",
      "text/plain": [
       "<Figure size 1000x600 with 1 Axes>"
      ]
     },
     "metadata": {},
     "output_type": "display_data"
    }
   ],
   "source": [
    "data = {\n",
    "    '상품명': ['[신세계] 신세계 상품권-1만원권', '[신세계] 신세계 상품권-4만원권', '[CU] 모바일 금액권-5천원권'],\n",
    "    '판매량': [3443, 2298, 1951]\n",
    "}\n",
    "\n",
    "# DataFrame 생성\n",
    "billion_best = pd.DataFrame(data)\n",
    "\n",
    "# Plotting\n",
    "plt.figure(figsize=(10, 6))\n",
    "\n",
    "# 막대 그래프 생성\n",
    "sns.barplot(data=billion_best, x='상품명', y='판매량', palette='husl')\n",
    "\n",
    "# 그래프 제목 및 축 라벨 설정\n",
    "plt.title('억 단위 그룹의 상품별 판매량 TOP 3')\n",
    "plt.xlabel('상품명')\n",
    "plt.ylabel('판매량(개)')\n",
    "\n",
    "# X축 레이블 회전 (읽기 쉽게 하기 위해)\n",
    "plt.xticks(rotation=45, ha='right')\n",
    "\n",
    "# 그래프를 보여줌\n",
    "plt.tight_layout()\n",
    "plt.savefig('billion_best.png')\n",
    "plt.show()"
   ]
  },
  {
   "cell_type": "code",
   "execution_count": 178,
   "id": "85d22974-6855-4775-a34c-60ef98b5b0ac",
   "metadata": {},
   "outputs": [],
   "source": [
    "best_b = billion[billion['상품명'] == '[신세계] 신세계 상품권-1만원권']['주문일자'] #가장 많이 팔린 상품이 많이 팔린 날"
   ]
  },
  {
   "cell_type": "code",
   "execution_count": 179,
   "id": "1de0312c-aaa9-499c-83b5-3e2a29e0d8fb",
   "metadata": {},
   "outputs": [
    {
     "data": {
      "text/plain": [
       "주문일자\n",
       "2022-10-07     25\n",
       "2022-10-31     20\n",
       "2022-09-15     20\n",
       "Name: count, dtype: int64"
      ]
     },
     "execution_count": 179,
     "metadata": {},
     "output_type": "execute_result"
    }
   ],
   "source": [
    "best_b.value_counts().head(3)"
   ]
  },
  {
   "cell_type": "code",
   "execution_count": 180,
   "id": "9d8a118d-a12f-4ca3-af81-0c5d9f9f2e82",
   "metadata": {
    "id": "9d8a118d-a12f-4ca3-af81-0c5d9f9f2e82"
   },
   "outputs": [
    {
     "name": "stderr",
     "output_type": "stream",
     "text": [
      "C:\\Users\\user\\AppData\\Local\\Temp\\ipykernel_3024\\1942072813.py:2: SettingWithCopyWarning: \n",
      "A value is trying to be set on a copy of a slice from a DataFrame.\n",
      "Try using .loc[row_indexer,col_indexer] = value instead\n",
      "\n",
      "See the caveats in the documentation: https://pandas.pydata.org/pandas-docs/stable/user_guide/indexing.html#returning-a-view-versus-a-copy\n",
      "  million['주문일자'] = million['주문일자'].apply(lambda x: str(x)[:11])\n"
     ]
    }
   ],
   "source": [
    "million = p[p['monetary'] == '2'] # p에서 천만 단위 그룹만 추출\n",
    "million['주문일자'] = million['주문일자'].apply(lambda x: str(x)[:11])"
   ]
  },
  {
   "cell_type": "code",
   "execution_count": 181,
   "id": "6ce389fb-2b3f-4b2a-92bc-40cff90574e1",
   "metadata": {
    "colab": {
     "base_uri": "https://localhost:8080/",
     "height": 615
    },
    "id": "6ce389fb-2b3f-4b2a-92bc-40cff90574e1",
    "outputId": "8fc3ff23-88e8-4ec1-fd2b-0cdceb1e81e7"
   },
   "outputs": [
    {
     "data": {
      "text/html": [
       "<div>\n",
       "<style scoped>\n",
       "    .dataframe tbody tr th:only-of-type {\n",
       "        vertical-align: middle;\n",
       "    }\n",
       "\n",
       "    .dataframe tbody tr th {\n",
       "        vertical-align: top;\n",
       "    }\n",
       "\n",
       "    .dataframe thead th {\n",
       "        text-align: right;\n",
       "    }\n",
       "</style>\n",
       "<table border=\"1\" class=\"dataframe\">\n",
       "  <thead>\n",
       "    <tr style=\"text-align: right;\">\n",
       "      <th></th>\n",
       "      <th>주문번호</th>\n",
       "      <th>업체명</th>\n",
       "      <th>상품명</th>\n",
       "      <th>제조사</th>\n",
       "      <th>주문수량</th>\n",
       "      <th>판매금액</th>\n",
       "      <th>결제방법</th>\n",
       "      <th>주문일자</th>\n",
       "      <th>처리상태</th>\n",
       "      <th>초도상품</th>\n",
       "      <th>제작문구 내역</th>\n",
       "      <th>할부기간</th>\n",
       "      <th>recency</th>\n",
       "      <th>frequency</th>\n",
       "      <th>monetary</th>\n",
       "    </tr>\n",
       "  </thead>\n",
       "  <tbody>\n",
       "    <tr>\n",
       "      <th>79</th>\n",
       "      <td>191219105727621</td>\n",
       "      <td>조이스</td>\n",
       "      <td>[자바펜] 0.7mm 제도샤프-낱개</td>\n",
       "      <td>자바펜</td>\n",
       "      <td>9</td>\n",
       "      <td>7200</td>\n",
       "      <td>신용카드</td>\n",
       "      <td>2019-12-19</td>\n",
       "      <td>구매확정</td>\n",
       "      <td>N</td>\n",
       "      <td>NaN</td>\n",
       "      <td>NaN</td>\n",
       "      <td>1</td>\n",
       "      <td>2</td>\n",
       "      <td>2</td>\n",
       "    </tr>\n",
       "    <tr>\n",
       "      <th>80</th>\n",
       "      <td>191219105727621</td>\n",
       "      <td>조이스</td>\n",
       "      <td>[자바펜] 0.5mm 제도샤프-낱개</td>\n",
       "      <td>자바펜</td>\n",
       "      <td>8</td>\n",
       "      <td>6400</td>\n",
       "      <td>신용카드</td>\n",
       "      <td>2019-12-19</td>\n",
       "      <td>구매확정</td>\n",
       "      <td>N</td>\n",
       "      <td>NaN</td>\n",
       "      <td>NaN</td>\n",
       "      <td>1</td>\n",
       "      <td>2</td>\n",
       "      <td>2</td>\n",
       "    </tr>\n",
       "    <tr>\n",
       "      <th>81</th>\n",
       "      <td>191219105727621</td>\n",
       "      <td>조이스</td>\n",
       "      <td>[자바펜] 0.9mm 제도샤프-낱개</td>\n",
       "      <td>자바펜</td>\n",
       "      <td>9</td>\n",
       "      <td>7200</td>\n",
       "      <td>신용카드</td>\n",
       "      <td>2019-12-19</td>\n",
       "      <td>구매확정</td>\n",
       "      <td>N</td>\n",
       "      <td>NaN</td>\n",
       "      <td>NaN</td>\n",
       "      <td>1</td>\n",
       "      <td>2</td>\n",
       "      <td>2</td>\n",
       "    </tr>\n",
       "    <tr>\n",
       "      <th>82</th>\n",
       "      <td>191219105727621</td>\n",
       "      <td>조이스</td>\n",
       "      <td>[피스코리아] 스테플러(제본용) HD-130</td>\n",
       "      <td>피스코리아</td>\n",
       "      <td>1</td>\n",
       "      <td>24500</td>\n",
       "      <td>신용카드</td>\n",
       "      <td>2019-12-19</td>\n",
       "      <td>구매확정</td>\n",
       "      <td>N</td>\n",
       "      <td>NaN</td>\n",
       "      <td>NaN</td>\n",
       "      <td>1</td>\n",
       "      <td>2</td>\n",
       "      <td>2</td>\n",
       "    </tr>\n",
       "    <tr>\n",
       "      <th>145</th>\n",
       "      <td>191220161756613</td>\n",
       "      <td>조이스</td>\n",
       "      <td>[아이비스] 1000 PP 단어장/SP(색상랜덤)</td>\n",
       "      <td>아이비스</td>\n",
       "      <td>50</td>\n",
       "      <td>35000</td>\n",
       "      <td>신용카드</td>\n",
       "      <td>2019-12-20</td>\n",
       "      <td>미결제</td>\n",
       "      <td>N</td>\n",
       "      <td>NaN</td>\n",
       "      <td>NaN</td>\n",
       "      <td>1</td>\n",
       "      <td>2</td>\n",
       "      <td>2</td>\n",
       "    </tr>\n",
       "    <tr>\n",
       "      <th>...</th>\n",
       "      <td>...</td>\n",
       "      <td>...</td>\n",
       "      <td>...</td>\n",
       "      <td>...</td>\n",
       "      <td>...</td>\n",
       "      <td>...</td>\n",
       "      <td>...</td>\n",
       "      <td>...</td>\n",
       "      <td>...</td>\n",
       "      <td>...</td>\n",
       "      <td>...</td>\n",
       "      <td>...</td>\n",
       "      <td>...</td>\n",
       "      <td>...</td>\n",
       "      <td>...</td>\n",
       "    </tr>\n",
       "    <tr>\n",
       "      <th>218450</th>\n",
       "      <td>221107213255534</td>\n",
       "      <td>거영아이앤디</td>\n",
       "      <td>[학생선물] 500 해피프랜즈 랜덤 지우개-10개입</td>\n",
       "      <td>NaN</td>\n",
       "      <td>1</td>\n",
       "      <td>2650</td>\n",
       "      <td>신 + 포</td>\n",
       "      <td>2022-11-07</td>\n",
       "      <td>배송중</td>\n",
       "      <td>N</td>\n",
       "      <td>NaN</td>\n",
       "      <td>NaN</td>\n",
       "      <td>3</td>\n",
       "      <td>2</td>\n",
       "      <td>2</td>\n",
       "    </tr>\n",
       "    <tr>\n",
       "      <th>218462</th>\n",
       "      <td>221107215027277</td>\n",
       "      <td>거영아이앤디</td>\n",
       "      <td>[학생선물] 500 해피프랜즈 랜덤 지우개-10개입</td>\n",
       "      <td>NaN</td>\n",
       "      <td>1</td>\n",
       "      <td>2650</td>\n",
       "      <td>신 + 포</td>\n",
       "      <td>2022-11-07</td>\n",
       "      <td>배송중</td>\n",
       "      <td>N</td>\n",
       "      <td>NaN</td>\n",
       "      <td>NaN</td>\n",
       "      <td>3</td>\n",
       "      <td>2</td>\n",
       "      <td>2</td>\n",
       "    </tr>\n",
       "    <tr>\n",
       "      <th>218463</th>\n",
       "      <td>221107215027277</td>\n",
       "      <td>거영아이앤디</td>\n",
       "      <td>[학생선물] 8000 마이카 탈출 퍼즐게임</td>\n",
       "      <td>KY I&amp;D</td>\n",
       "      <td>1</td>\n",
       "      <td>4600</td>\n",
       "      <td>신 + 포</td>\n",
       "      <td>2022-11-07</td>\n",
       "      <td>배송중</td>\n",
       "      <td>N</td>\n",
       "      <td>NaN</td>\n",
       "      <td>NaN</td>\n",
       "      <td>3</td>\n",
       "      <td>2</td>\n",
       "      <td>2</td>\n",
       "    </tr>\n",
       "    <tr>\n",
       "      <th>218494</th>\n",
       "      <td>221107225547411</td>\n",
       "      <td>거영아이앤디</td>\n",
       "      <td>[학생선물] 500 해피프랜즈 랜덤 지우개-10개입</td>\n",
       "      <td>NaN</td>\n",
       "      <td>1</td>\n",
       "      <td>2650</td>\n",
       "      <td>신 + 포</td>\n",
       "      <td>2022-11-07</td>\n",
       "      <td>배송중</td>\n",
       "      <td>N</td>\n",
       "      <td>NaN</td>\n",
       "      <td>NaN</td>\n",
       "      <td>3</td>\n",
       "      <td>2</td>\n",
       "      <td>2</td>\n",
       "    </tr>\n",
       "    <tr>\n",
       "      <th>218548</th>\n",
       "      <td>221108015929937</td>\n",
       "      <td>알파</td>\n",
       "      <td>[시스맥스] 점보꽂이 32101(W86*D248*H292mm)-색상선택</td>\n",
       "      <td>-</td>\n",
       "      <td>2</td>\n",
       "      <td>4900</td>\n",
       "      <td>신 + 포</td>\n",
       "      <td>2022-11-08</td>\n",
       "      <td>배송준비</td>\n",
       "      <td>N</td>\n",
       "      <td>NaN</td>\n",
       "      <td>NaN</td>\n",
       "      <td>3</td>\n",
       "      <td>2</td>\n",
       "      <td>2</td>\n",
       "    </tr>\n",
       "  </tbody>\n",
       "</table>\n",
       "<p>23508 rows × 15 columns</p>\n",
       "</div>"
      ],
      "text/plain": [
       "                   주문번호     업체명                                      상품명  \\\n",
       "79      191219105727621     조이스                      [자바펜] 0.7mm 제도샤프-낱개   \n",
       "80      191219105727621     조이스                      [자바펜] 0.5mm 제도샤프-낱개   \n",
       "81      191219105727621     조이스                      [자바펜] 0.9mm 제도샤프-낱개   \n",
       "82      191219105727621     조이스                 [피스코리아] 스테플러(제본용) HD-130   \n",
       "145     191220161756613     조이스              [아이비스] 1000 PP 단어장/SP(색상랜덤)   \n",
       "...                 ...     ...                                      ...   \n",
       "218450  221107213255534  거영아이앤디             [학생선물] 500 해피프랜즈 랜덤 지우개-10개입   \n",
       "218462  221107215027277  거영아이앤디             [학생선물] 500 해피프랜즈 랜덤 지우개-10개입   \n",
       "218463  221107215027277  거영아이앤디                  [학생선물] 8000 마이카 탈출 퍼즐게임   \n",
       "218494  221107225547411  거영아이앤디             [학생선물] 500 해피프랜즈 랜덤 지우개-10개입   \n",
       "218548  221108015929937      알파  [시스맥스] 점보꽂이 32101(W86*D248*H292mm)-색상선택   \n",
       "\n",
       "           제조사  주문수량   판매금액   결제방법         주문일자  처리상태 초도상품 제작문구 내역 할부기간  \\\n",
       "79         자바펜     9   7200   신용카드  2019-12-19   구매확정    N     NaN  NaN   \n",
       "80         자바펜     8   6400   신용카드  2019-12-19   구매확정    N     NaN  NaN   \n",
       "81         자바펜     9   7200   신용카드  2019-12-19   구매확정    N     NaN  NaN   \n",
       "82       피스코리아     1  24500   신용카드  2019-12-19   구매확정    N     NaN  NaN   \n",
       "145       아이비스    50  35000   신용카드  2019-12-20    미결제    N     NaN  NaN   \n",
       "...        ...   ...    ...    ...          ...   ...  ...     ...  ...   \n",
       "218450     NaN     1   2650  신 + 포  2022-11-07    배송중    N     NaN  NaN   \n",
       "218462     NaN     1   2650  신 + 포  2022-11-07    배송중    N     NaN  NaN   \n",
       "218463  KY I&D     1   4600  신 + 포  2022-11-07    배송중    N     NaN  NaN   \n",
       "218494     NaN     1   2650  신 + 포  2022-11-07    배송중    N     NaN  NaN   \n",
       "218548       -     2   4900  신 + 포  2022-11-08   배송준비    N     NaN  NaN   \n",
       "\n",
       "       recency frequency monetary  \n",
       "79           1         2        2  \n",
       "80           1         2        2  \n",
       "81           1         2        2  \n",
       "82           1         2        2  \n",
       "145          1         2        2  \n",
       "...        ...       ...      ...  \n",
       "218450       3         2        2  \n",
       "218462       3         2        2  \n",
       "218463       3         2        2  \n",
       "218494       3         2        2  \n",
       "218548       3         2        2  \n",
       "\n",
       "[23508 rows x 15 columns]"
      ]
     },
     "execution_count": 181,
     "metadata": {},
     "output_type": "execute_result"
    }
   ],
   "source": [
    "million"
   ]
  },
  {
   "cell_type": "code",
   "execution_count": 182,
   "id": "7bee61bc-4c72-4f0d-b037-38166e26c7cc",
   "metadata": {
    "colab": {
     "base_uri": "https://localhost:8080/"
    },
    "id": "7bee61bc-4c72-4f0d-b037-38166e26c7cc",
    "outputId": "39d378b1-0d8d-4be8-b8cc-b2694725fd72"
   },
   "outputs": [
    {
     "data": {
      "text/plain": [
       "상품명\n",
       "[학생선물] 2000 큐브 푸시 스피너                                428\n",
       "[학생선물] 5000 게틀링 LED 멜로디 비눗방울 총 (랜덤발송)                255\n",
       "[엠에프] 국산 3중필터 일회용 마스크 50매                            253\n",
       "[디지털] 갤럭시탭 S6 라이트 하이브리드 스마트 케이스 (색상선택)               222\n",
       "[학생선물] 4000 큐티 더블 정수기                                221\n",
       "                                                    ... \n",
       "[스마트 HBE] 2학기 회원모집 업(UP) 종이 자석 스티커 10x15cm (옵션선택)      1\n",
       "[학습준비물] 칼라팬시 햄버거 가게-색종이 접기                             1\n",
       "[본쿠치나] 미니 믹서기 SC-2622BL(파스텔베이지)                        1\n",
       "[ABKO] Beatonic 블루투스 이어폰 E40 블랙                        1\n",
       "[자바펜] 0.7mm 제도샤프-낱개                                    1\n",
       "Name: count, Length: 5027, dtype: int64"
      ]
     },
     "execution_count": 182,
     "metadata": {},
     "output_type": "execute_result"
    }
   ],
   "source": [
    "million['상품명'].value_counts() # 천만 단위 상품 중 가장 많이 팔린 것과 개수"
   ]
  },
  {
   "cell_type": "code",
   "execution_count": 183,
   "id": "4bd06c43-09f6-446e-a93a-451205ac3ab7",
   "metadata": {},
   "outputs": [
    {
     "data": {
      "text/plain": [
       "상품명\n",
       "[학생선물] 2000 큐브 푸시 스피너                    428\n",
       "[학생선물] 5000 게틀링 LED 멜로디 비눗방울 총 (랜덤발송)    255\n",
       "[엠에프] 국산 3중필터 일회용 마스크 50매                253\n",
       "Name: count, dtype: int64"
      ]
     },
     "execution_count": 183,
     "metadata": {},
     "output_type": "execute_result"
    }
   ],
   "source": [
    "million['상품명'].value_counts().head(3) # 천만 단위 상품 중 가장 많이 상품 top3"
   ]
  },
  {
   "cell_type": "code",
   "execution_count": null,
   "id": "22607561-5f21-47f5-a531-bde048dbbe60",
   "metadata": {},
   "outputs": [],
   "source": [
    "million['상품명'].value_counts().head(3)"
   ]
  },
  {
   "cell_type": "code",
   "execution_count": null,
   "id": "bad0b627-0195-4344-b4c3-be6baa8ab9f7",
   "metadata": {},
   "outputs": [],
   "source": []
  },
  {
   "cell_type": "code",
   "execution_count": 184,
   "id": "8b2d000b-6eab-43ba-bd5b-2b6cd9ddc861",
   "metadata": {},
   "outputs": [],
   "source": [
    "best_m = million[million['상품명'] == '[학생선물] 2000 큐브 푸시 스피너']['주문일자'] #가장 많이 팔린 상품이 많이 팔린 날"
   ]
  },
  {
   "cell_type": "code",
   "execution_count": 185,
   "id": "989fa146-970d-4ac5-a748-e936aee05419",
   "metadata": {},
   "outputs": [
    {
     "data": {
      "text/plain": [
       "주문일자\n",
       "2022-03-15     43\n",
       "2022-03-17     42\n",
       "2022-03-23     31\n",
       "Name: count, dtype: int64"
      ]
     },
     "execution_count": 185,
     "metadata": {},
     "output_type": "execute_result"
    }
   ],
   "source": [
    "best_m.value_counts().head(3)"
   ]
  },
  {
   "cell_type": "code",
   "execution_count": 186,
   "id": "4cb29d30-e296-4c22-8dbc-301d5ec9ff4f",
   "metadata": {
    "id": "4cb29d30-e296-4c22-8dbc-301d5ec9ff4f"
   },
   "outputs": [
    {
     "name": "stderr",
     "output_type": "stream",
     "text": [
      "C:\\Users\\user\\AppData\\Local\\Temp\\ipykernel_3024\\962684409.py:2: SettingWithCopyWarning: \n",
      "A value is trying to be set on a copy of a slice from a DataFrame.\n",
      "Try using .loc[row_indexer,col_indexer] = value instead\n",
      "\n",
      "See the caveats in the documentation: https://pandas.pydata.org/pandas-docs/stable/user_guide/indexing.html#returning-a-view-versus-a-copy\n",
      "  below['주문일자'] = below['주문일자'].apply(lambda x: str(x)[:11])\n"
     ]
    }
   ],
   "source": [
    "below = p[p['monetary'] == '1'] # p에서 그 이하 그룹만 추출\n",
    "below['주문일자'] = below['주문일자'].apply(lambda x: str(x)[:11])"
   ]
  },
  {
   "cell_type": "code",
   "execution_count": 53,
   "id": "cef39763-c010-49fa-8932-36091ad3db29",
   "metadata": {
    "colab": {
     "base_uri": "https://localhost:8080/",
     "height": 788
    },
    "id": "cef39763-c010-49fa-8932-36091ad3db29",
    "outputId": "525aff3c-da12-4cd8-c83a-4c75197eadc8"
   },
   "outputs": [
    {
     "data": {
      "text/html": [
       "<div>\n",
       "<style scoped>\n",
       "    .dataframe tbody tr th:only-of-type {\n",
       "        vertical-align: middle;\n",
       "    }\n",
       "\n",
       "    .dataframe tbody tr th {\n",
       "        vertical-align: top;\n",
       "    }\n",
       "\n",
       "    .dataframe thead th {\n",
       "        text-align: right;\n",
       "    }\n",
       "</style>\n",
       "<table border=\"1\" class=\"dataframe\">\n",
       "  <thead>\n",
       "    <tr style=\"text-align: right;\">\n",
       "      <th></th>\n",
       "      <th>주문번호</th>\n",
       "      <th>업체명</th>\n",
       "      <th>상품명</th>\n",
       "      <th>제조사</th>\n",
       "      <th>주문수량</th>\n",
       "      <th>판매금액</th>\n",
       "      <th>결제방법</th>\n",
       "      <th>주문일자</th>\n",
       "      <th>처리상태</th>\n",
       "      <th>초도상품</th>\n",
       "      <th>제작문구 내역</th>\n",
       "      <th>할부기간</th>\n",
       "      <th>recency</th>\n",
       "      <th>frequency</th>\n",
       "      <th>monetary</th>\n",
       "    </tr>\n",
       "  </thead>\n",
       "  <tbody>\n",
       "    <tr>\n",
       "      <th>231</th>\n",
       "      <td>191223173733604</td>\n",
       "      <td>산스토어</td>\n",
       "      <td>[라인프렌즈] 공기청정기 (Pro)</td>\n",
       "      <td>에어세이브</td>\n",
       "      <td>1</td>\n",
       "      <td>89800</td>\n",
       "      <td>신용카드</td>\n",
       "      <td>2019-12-23</td>\n",
       "      <td>미결제</td>\n",
       "      <td>N</td>\n",
       "      <td>NaN</td>\n",
       "      <td>NaN</td>\n",
       "      <td>3</td>\n",
       "      <td>1</td>\n",
       "      <td>1</td>\n",
       "    </tr>\n",
       "    <tr>\n",
       "      <th>232</th>\n",
       "      <td>191223173733604</td>\n",
       "      <td>산스토어</td>\n",
       "      <td>[코코젤리] 트리탑 세라믹 히터기 (KW-CH200/열풍기/PTC히터/온풍기)</td>\n",
       "      <td>지노네트웍스</td>\n",
       "      <td>1</td>\n",
       "      <td>40000</td>\n",
       "      <td>신용카드</td>\n",
       "      <td>2019-12-23</td>\n",
       "      <td>미결제</td>\n",
       "      <td>N</td>\n",
       "      <td>NaN</td>\n",
       "      <td>NaN</td>\n",
       "      <td>3</td>\n",
       "      <td>1</td>\n",
       "      <td>1</td>\n",
       "    </tr>\n",
       "    <tr>\n",
       "      <th>391</th>\n",
       "      <td>191226173034386</td>\n",
       "      <td>산스토어</td>\n",
       "      <td>[라인프렌즈] 공기청정기 (Pro)</td>\n",
       "      <td>에어세이브</td>\n",
       "      <td>1</td>\n",
       "      <td>89800</td>\n",
       "      <td>신용카드</td>\n",
       "      <td>2019-12-26</td>\n",
       "      <td>미결제</td>\n",
       "      <td>N</td>\n",
       "      <td>NaN</td>\n",
       "      <td>NaN</td>\n",
       "      <td>3</td>\n",
       "      <td>1</td>\n",
       "      <td>1</td>\n",
       "    </tr>\n",
       "    <tr>\n",
       "      <th>889</th>\n",
       "      <td>200107111249730</td>\n",
       "      <td>산스토어</td>\n",
       "      <td>[동원] 명절 식품 선물세트 + 동원 판호</td>\n",
       "      <td>NaN</td>\n",
       "      <td>1</td>\n",
       "      <td>0</td>\n",
       "      <td>NaN</td>\n",
       "      <td>2020-01-07</td>\n",
       "      <td>미결제</td>\n",
       "      <td>N</td>\n",
       "      <td>NaN</td>\n",
       "      <td>NaN</td>\n",
       "      <td>3</td>\n",
       "      <td>1</td>\n",
       "      <td>1</td>\n",
       "    </tr>\n",
       "    <tr>\n",
       "      <th>904</th>\n",
       "      <td>200107125349840</td>\n",
       "      <td>산스토어</td>\n",
       "      <td>[동원] 명절 식품 선물세트 + 동원 판호</td>\n",
       "      <td>NaN</td>\n",
       "      <td>1</td>\n",
       "      <td>0</td>\n",
       "      <td>신용카드</td>\n",
       "      <td>2020-01-07</td>\n",
       "      <td>미결제</td>\n",
       "      <td>N</td>\n",
       "      <td>NaN</td>\n",
       "      <td>NaN</td>\n",
       "      <td>3</td>\n",
       "      <td>1</td>\n",
       "      <td>1</td>\n",
       "    </tr>\n",
       "    <tr>\n",
       "      <th>...</th>\n",
       "      <td>...</td>\n",
       "      <td>...</td>\n",
       "      <td>...</td>\n",
       "      <td>...</td>\n",
       "      <td>...</td>\n",
       "      <td>...</td>\n",
       "      <td>...</td>\n",
       "      <td>...</td>\n",
       "      <td>...</td>\n",
       "      <td>...</td>\n",
       "      <td>...</td>\n",
       "      <td>...</td>\n",
       "      <td>...</td>\n",
       "      <td>...</td>\n",
       "      <td>...</td>\n",
       "    </tr>\n",
       "    <tr>\n",
       "      <th>218274</th>\n",
       "      <td>221107163116324</td>\n",
       "      <td>오피스허브</td>\n",
       "      <td>[카카오프렌즈] 봉제 세안밴드-어피치</td>\n",
       "      <td>레전드코퍼레이션</td>\n",
       "      <td>10</td>\n",
       "      <td>30000</td>\n",
       "      <td>신 + 적</td>\n",
       "      <td>2022-11-07</td>\n",
       "      <td>배송준비</td>\n",
       "      <td>N</td>\n",
       "      <td>NaN</td>\n",
       "      <td>NaN</td>\n",
       "      <td>1</td>\n",
       "      <td>1</td>\n",
       "      <td>1</td>\n",
       "    </tr>\n",
       "    <tr>\n",
       "      <th>218356</th>\n",
       "      <td>221107190516783</td>\n",
       "      <td>그린피앤에스</td>\n",
       "      <td>[문구/사무] (only ) Green 칭찬쿠폰 만년 스탬프 10종</td>\n",
       "      <td>(주)그린피앤에스</td>\n",
       "      <td>1</td>\n",
       "      <td>6700</td>\n",
       "      <td>신 + 포</td>\n",
       "      <td>2022-11-07</td>\n",
       "      <td>미결제</td>\n",
       "      <td>N</td>\n",
       "      <td>NaN</td>\n",
       "      <td>NaN</td>\n",
       "      <td>1</td>\n",
       "      <td>1</td>\n",
       "      <td>1</td>\n",
       "    </tr>\n",
       "    <tr>\n",
       "      <th>218361</th>\n",
       "      <td>221107191615563</td>\n",
       "      <td>그린피앤에스</td>\n",
       "      <td>[문구/사무] 선생님 칭찬스탬프 1종 R-524 24x24mm</td>\n",
       "      <td>그린피앤에스</td>\n",
       "      <td>1</td>\n",
       "      <td>11000</td>\n",
       "      <td>신 + 포</td>\n",
       "      <td>2022-11-07</td>\n",
       "      <td>배송준비</td>\n",
       "      <td>N</td>\n",
       "      <td>NaN</td>\n",
       "      <td>NaN</td>\n",
       "      <td>1</td>\n",
       "      <td>1</td>\n",
       "      <td>1</td>\n",
       "    </tr>\n",
       "    <tr>\n",
       "      <th>218417</th>\n",
       "      <td>221107203233687</td>\n",
       "      <td>오피스허브</td>\n",
       "      <td>[론칭특가] 델리 마카롱 학생용 연필 12자루 HB 54900</td>\n",
       "      <td>델리</td>\n",
       "      <td>17</td>\n",
       "      <td>19380</td>\n",
       "      <td>포인트</td>\n",
       "      <td>2022-11-07</td>\n",
       "      <td>주문취소</td>\n",
       "      <td>N</td>\n",
       "      <td>NaN</td>\n",
       "      <td>NaN</td>\n",
       "      <td>1</td>\n",
       "      <td>1</td>\n",
       "      <td>1</td>\n",
       "    </tr>\n",
       "    <tr>\n",
       "      <th>218439</th>\n",
       "      <td>221107212219979</td>\n",
       "      <td>맨도롱</td>\n",
       "      <td>[맛의 신세계] 피코크-너비아니 550gX3봉+무료배송(제주도/도서산간 배송불가)</td>\n",
       "      <td>(주)신세계푸드 음성공장</td>\n",
       "      <td>1</td>\n",
       "      <td>17600</td>\n",
       "      <td>신용카드</td>\n",
       "      <td>2022-11-07</td>\n",
       "      <td>주문취소</td>\n",
       "      <td>N</td>\n",
       "      <td>NaN</td>\n",
       "      <td>NaN</td>\n",
       "      <td>1</td>\n",
       "      <td>1</td>\n",
       "      <td>1</td>\n",
       "    </tr>\n",
       "  </tbody>\n",
       "</table>\n",
       "<p>3854 rows × 15 columns</p>\n",
       "</div>"
      ],
      "text/plain": [
       "                   주문번호     업체명  \\\n",
       "231     191223173733604    산스토어   \n",
       "232     191223173733604    산스토어   \n",
       "391     191226173034386    산스토어   \n",
       "889     200107111249730    산스토어   \n",
       "904     200107125349840    산스토어   \n",
       "...                 ...     ...   \n",
       "218274  221107163116324   오피스허브   \n",
       "218356  221107190516783  그린피앤에스   \n",
       "218361  221107191615563  그린피앤에스   \n",
       "218417  221107203233687   오피스허브   \n",
       "218439  221107212219979     맨도롱   \n",
       "\n",
       "                                                  상품명            제조사  주문수량  \\\n",
       "231                               [라인프렌즈] 공기청정기 (Pro)          에어세이브     1   \n",
       "232       [코코젤리] 트리탑 세라믹 히터기 (KW-CH200/열풍기/PTC히터/온풍기)         지노네트웍스     1   \n",
       "391                               [라인프렌즈] 공기청정기 (Pro)          에어세이브     1   \n",
       "889                           [동원] 명절 식품 선물세트 + 동원 판호            NaN     1   \n",
       "904                           [동원] 명절 식품 선물세트 + 동원 판호            NaN     1   \n",
       "...                                               ...            ...   ...   \n",
       "218274                           [카카오프렌즈] 봉제 세안밴드-어피치       레전드코퍼레이션    10   \n",
       "218356          [문구/사무] (only ) Green 칭찬쿠폰 만년 스탬프 10종      (주)그린피앤에스     1   \n",
       "218361             [문구/사무] 선생님 칭찬스탬프 1종 R-524 24x24mm         그린피앤에스     1   \n",
       "218417             [론칭특가] 델리 마카롱 학생용 연필 12자루 HB 54900             델리    17   \n",
       "218439  [맛의 신세계] 피코크-너비아니 550gX3봉+무료배송(제주도/도서산간 배송불가)  (주)신세계푸드 음성공장     1   \n",
       "\n",
       "         판매금액   결제방법         주문일자  처리상태 초도상품 제작문구 내역 할부기간  recency  frequency  \\\n",
       "231     89800   신용카드  2019-12-23    미결제    N     NaN  NaN        3          1   \n",
       "232     40000   신용카드  2019-12-23    미결제    N     NaN  NaN        3          1   \n",
       "391     89800   신용카드  2019-12-26    미결제    N     NaN  NaN        3          1   \n",
       "889         0    NaN  2020-01-07    미결제    N     NaN  NaN        3          1   \n",
       "904         0   신용카드  2020-01-07    미결제    N     NaN  NaN        3          1   \n",
       "...       ...    ...          ...   ...  ...     ...  ...      ...        ...   \n",
       "218274  30000  신 + 적  2022-11-07   배송준비    N     NaN  NaN        1          1   \n",
       "218356   6700  신 + 포  2022-11-07    미결제    N     NaN  NaN        1          1   \n",
       "218361  11000  신 + 포  2022-11-07   배송준비    N     NaN  NaN        1          1   \n",
       "218417  19380    포인트  2022-11-07   주문취소    N     NaN  NaN        1          1   \n",
       "218439  17600   신용카드  2022-11-07   주문취소    N     NaN  NaN        1          1   \n",
       "\n",
       "       monetary  \n",
       "231           1  \n",
       "232           1  \n",
       "391           1  \n",
       "889           1  \n",
       "904           1  \n",
       "...         ...  \n",
       "218274        1  \n",
       "218356        1  \n",
       "218361        1  \n",
       "218417        1  \n",
       "218439        1  \n",
       "\n",
       "[3854 rows x 15 columns]"
      ]
     },
     "execution_count": 53,
     "metadata": {},
     "output_type": "execute_result"
    }
   ],
   "source": [
    "below"
   ]
  },
  {
   "cell_type": "code",
   "execution_count": 54,
   "id": "8a31839d-93eb-4334-a722-645418dd51f4",
   "metadata": {
    "colab": {
     "base_uri": "https://localhost:8080/"
    },
    "id": "8a31839d-93eb-4334-a722-645418dd51f4",
    "outputId": "bcb81547-4f3a-4963-ba27-6813ca9a0b97",
    "scrolled": true
   },
   "outputs": [
    {
     "data": {
      "text/plain": [
       "상품명\n",
       "[보건용품] 투명쫄대가림판 - 마스크걸이용                       178\n",
       "[문구/사무] (only ) Green 칭찬쿠폰 만년 스탬프 10종         145\n",
       "[하루특가] 7321디자인-Plan B 스터디 플래너 ver.2 (옵션선택)     63\n",
       "VSH-1000 스마트폰용 헤드폰                             55\n",
       "[공동구매 특가] 스마트 해법 어린이 장우산-1Set 10개입             46\n",
       "                                             ... \n",
       "[스낵포 EVENT]팬트리 무료- 다양한 구성의 지니마켓 간식박스 3탄         1\n",
       "[학습교구] Catan 카탄                                 1\n",
       "[학습교구] UbongoMini 우봉고미니                         1\n",
       "[러닝리소스] 자석 분수 학습기 EDI4804                       1\n",
       "[카카오프렌즈] 봉제 세안밴드-어피치                            1\n",
       "Name: count, Length: 1146, dtype: int64"
      ]
     },
     "execution_count": 54,
     "metadata": {},
     "output_type": "execute_result"
    }
   ],
   "source": [
    "below['상품명'].value_counts()  # 그 이하 상품 중 가장 많이 팔린 것과 개수"
   ]
  },
  {
   "cell_type": "code",
   "execution_count": 55,
   "id": "6e183019-c7f8-48c3-92fa-4df041ffd92b",
   "metadata": {},
   "outputs": [
    {
     "data": {
      "text/plain": [
       "상품명\n",
       "[보건용품] 투명쫄대가림판 - 마스크걸이용                       178\n",
       "[문구/사무] (only ) Green 칭찬쿠폰 만년 스탬프 10종         145\n",
       "[하루특가] 7321디자인-Plan B 스터디 플래너 ver.2 (옵션선택)     63\n",
       "Name: count, dtype: int64"
      ]
     },
     "execution_count": 55,
     "metadata": {},
     "output_type": "execute_result"
    }
   ],
   "source": [
    "below['상품명'].value_counts().head(3) # 그 이하 상품 중 가장 많이 상품 top3"
   ]
  },
  {
   "cell_type": "code",
   "execution_count": 56,
   "id": "cdf253b2-ba04-4e88-8296-3b99da25c208",
   "metadata": {},
   "outputs": [],
   "source": [
    "best_be =  below[below['상품명'] == '[보건용품] 투명쫄대가림판 - 마스크걸이용']['주문일자'] #가장 많이 팔린 상품이 많이 팔린 날"
   ]
  },
  {
   "cell_type": "code",
   "execution_count": 57,
   "id": "3aeb1f93-0f3c-4895-8ea1-405c43d6542e",
   "metadata": {
    "scrolled": true
   },
   "outputs": [
    {
     "data": {
      "text/plain": [
       "주문일자\n",
       "2020-08-24     10\n",
       "2020-09-17      6\n",
       "2020-08-26      6\n",
       "Name: count, dtype: int64"
      ]
     },
     "execution_count": 57,
     "metadata": {},
     "output_type": "execute_result"
    }
   ],
   "source": [
    "best_be.value_counts().head(3)"
   ]
  },
  {
   "cell_type": "code",
   "execution_count": null,
   "id": "902786eb-7cab-4dd8-b852-3445ad26fe89",
   "metadata": {},
   "outputs": [],
   "source": []
  },
  {
   "cell_type": "markdown",
   "id": "d741f37a-5b46-4539-9e45-4402a4c085ff",
   "metadata": {},
   "source": [
    "### 가장 비싼 상품의 금액대는 ? "
   ]
  },
  {
   "cell_type": "code",
   "execution_count": 58,
   "id": "ba16dda6-d61b-47f2-a99a-031d0bc5ba7e",
   "metadata": {},
   "outputs": [
    {
     "data": {
      "text/plain": [
       "19800000"
      ]
     },
     "execution_count": 58,
     "metadata": {},
     "output_type": "execute_result"
    }
   ],
   "source": [
    "billion['판매금액'].max()"
   ]
  },
  {
   "cell_type": "code",
   "execution_count": 59,
   "id": "e25bf6fe-e73e-45ca-9518-e95085d00a19",
   "metadata": {},
   "outputs": [
    {
     "data": {
      "text/html": [
       "<div>\n",
       "<style scoped>\n",
       "    .dataframe tbody tr th:only-of-type {\n",
       "        vertical-align: middle;\n",
       "    }\n",
       "\n",
       "    .dataframe tbody tr th {\n",
       "        vertical-align: top;\n",
       "    }\n",
       "\n",
       "    .dataframe thead th {\n",
       "        text-align: right;\n",
       "    }\n",
       "</style>\n",
       "<table border=\"1\" class=\"dataframe\">\n",
       "  <thead>\n",
       "    <tr style=\"text-align: right;\">\n",
       "      <th></th>\n",
       "      <th>주문번호</th>\n",
       "      <th>업체명</th>\n",
       "      <th>상품명</th>\n",
       "      <th>제조사</th>\n",
       "      <th>주문수량</th>\n",
       "      <th>판매금액</th>\n",
       "      <th>결제방법</th>\n",
       "      <th>주문일자</th>\n",
       "      <th>처리상태</th>\n",
       "      <th>초도상품</th>\n",
       "      <th>제작문구 내역</th>\n",
       "      <th>할부기간</th>\n",
       "      <th>recency</th>\n",
       "      <th>frequency</th>\n",
       "      <th>monetary</th>\n",
       "    </tr>\n",
       "  </thead>\n",
       "  <tbody>\n",
       "    <tr>\n",
       "      <th>99985</th>\n",
       "      <td>211123163230446</td>\n",
       "      <td>천재태블릿</td>\n",
       "      <td>[스마트 HBE] 학습 전용 태블릿-정기결제</td>\n",
       "      <td>삼성전자</td>\n",
       "      <td>50</td>\n",
       "      <td>19800000</td>\n",
       "      <td>정기결제</td>\n",
       "      <td>2021-11-23</td>\n",
       "      <td>구매확정</td>\n",
       "      <td>N</td>\n",
       "      <td>NaN</td>\n",
       "      <td>24개월</td>\n",
       "      <td>1</td>\n",
       "      <td>2</td>\n",
       "      <td>3</td>\n",
       "    </tr>\n",
       "  </tbody>\n",
       "</table>\n",
       "</div>"
      ],
      "text/plain": [
       "                  주문번호    업체명                       상품명   제조사  주문수량      판매금액  \\\n",
       "99985  211123163230446  천재태블릿  [스마트 HBE] 학습 전용 태블릿-정기결제  삼성전자    50  19800000   \n",
       "\n",
       "       결제방법         주문일자  처리상태 초도상품 제작문구 내역  할부기간  recency  frequency monetary  \n",
       "99985  정기결제  2021-11-23   구매확정    N     NaN  24개월        1          2        3  "
      ]
     },
     "execution_count": 59,
     "metadata": {},
     "output_type": "execute_result"
    }
   ],
   "source": [
    "billion[billion['판매금액'] == 19800000]"
   ]
  },
  {
   "cell_type": "code",
   "execution_count": 60,
   "id": "c69260eb-1236-4915-ae2b-4ef2c14ca05a",
   "metadata": {},
   "outputs": [
    {
     "data": {
      "text/plain": [
       "396000.0"
      ]
     },
     "execution_count": 60,
     "metadata": {},
     "output_type": "execute_result"
    }
   ],
   "source": [
    "\t19800000 / 50"
   ]
  },
  {
   "cell_type": "code",
   "execution_count": 61,
   "id": "fb5c6786-7442-4af5-bafc-98c81a738cbc",
   "metadata": {},
   "outputs": [
    {
     "data": {
      "text/plain": [
       "3520800"
      ]
     },
     "execution_count": 61,
     "metadata": {},
     "output_type": "execute_result"
    }
   ],
   "source": [
    "million['판매금액'].max()"
   ]
  },
  {
   "cell_type": "code",
   "execution_count": 62,
   "id": "9da395c8-7911-44e4-a287-e1076ff820fb",
   "metadata": {},
   "outputs": [
    {
     "data": {
      "text/html": [
       "<div>\n",
       "<style scoped>\n",
       "    .dataframe tbody tr th:only-of-type {\n",
       "        vertical-align: middle;\n",
       "    }\n",
       "\n",
       "    .dataframe tbody tr th {\n",
       "        vertical-align: top;\n",
       "    }\n",
       "\n",
       "    .dataframe thead th {\n",
       "        text-align: right;\n",
       "    }\n",
       "</style>\n",
       "<table border=\"1\" class=\"dataframe\">\n",
       "  <thead>\n",
       "    <tr style=\"text-align: right;\">\n",
       "      <th></th>\n",
       "      <th>주문번호</th>\n",
       "      <th>업체명</th>\n",
       "      <th>상품명</th>\n",
       "      <th>제조사</th>\n",
       "      <th>주문수량</th>\n",
       "      <th>판매금액</th>\n",
       "      <th>결제방법</th>\n",
       "      <th>주문일자</th>\n",
       "      <th>처리상태</th>\n",
       "      <th>초도상품</th>\n",
       "      <th>제작문구 내역</th>\n",
       "      <th>할부기간</th>\n",
       "      <th>recency</th>\n",
       "      <th>frequency</th>\n",
       "      <th>monetary</th>\n",
       "    </tr>\n",
       "  </thead>\n",
       "  <tbody>\n",
       "    <tr>\n",
       "      <th>125062</th>\n",
       "      <td>220221152659302</td>\n",
       "      <td>비즈마켓렌탈</td>\n",
       "      <td>[렌탈] 코웨이 노블 대용량 공기청정기 (등록비/배송비/설치비 무료)</td>\n",
       "      <td>NaN</td>\n",
       "      <td>1</td>\n",
       "      <td>3520800</td>\n",
       "      <td>-</td>\n",
       "      <td>2022-02-21</td>\n",
       "      <td>상담취소</td>\n",
       "      <td>N</td>\n",
       "      <td>NaN</td>\n",
       "      <td>NaN</td>\n",
       "      <td>2</td>\n",
       "      <td>1</td>\n",
       "      <td>2</td>\n",
       "    </tr>\n",
       "  </tbody>\n",
       "</table>\n",
       "</div>"
      ],
      "text/plain": [
       "                   주문번호     업체명                                     상품명  제조사  \\\n",
       "125062  220221152659302  비즈마켓렌탈  [렌탈] 코웨이 노블 대용량 공기청정기 (등록비/배송비/설치비 무료)  NaN   \n",
       "\n",
       "        주문수량     판매금액 결제방법         주문일자  처리상태 초도상품 제작문구 내역 할부기간  recency  \\\n",
       "125062     1  3520800    -  2022-02-21   상담취소    N     NaN  NaN        2   \n",
       "\n",
       "        frequency monetary  \n",
       "125062          1        2  "
      ]
     },
     "execution_count": 62,
     "metadata": {},
     "output_type": "execute_result"
    }
   ],
   "source": [
    "million[million['판매금액'] == 3520800]"
   ]
  },
  {
   "cell_type": "code",
   "execution_count": 63,
   "id": "c0df4b54-a1cc-4cb4-b413-8b959ef602be",
   "metadata": {
    "scrolled": true
   },
   "outputs": [
    {
     "data": {
      "text/plain": [
       "3200000"
      ]
     },
     "execution_count": 63,
     "metadata": {},
     "output_type": "execute_result"
    }
   ],
   "source": [
    "below['판매금액'].max()"
   ]
  },
  {
   "cell_type": "code",
   "execution_count": 64,
   "id": "681695ca-7411-4df8-91c7-31b39bcdf4f9",
   "metadata": {},
   "outputs": [
    {
     "data": {
      "text/html": [
       "<div>\n",
       "<style scoped>\n",
       "    .dataframe tbody tr th:only-of-type {\n",
       "        vertical-align: middle;\n",
       "    }\n",
       "\n",
       "    .dataframe tbody tr th {\n",
       "        vertical-align: top;\n",
       "    }\n",
       "\n",
       "    .dataframe thead th {\n",
       "        text-align: right;\n",
       "    }\n",
       "</style>\n",
       "<table border=\"1\" class=\"dataframe\">\n",
       "  <thead>\n",
       "    <tr style=\"text-align: right;\">\n",
       "      <th></th>\n",
       "      <th>주문번호</th>\n",
       "      <th>업체명</th>\n",
       "      <th>상품명</th>\n",
       "      <th>제조사</th>\n",
       "      <th>주문수량</th>\n",
       "      <th>판매금액</th>\n",
       "      <th>결제방법</th>\n",
       "      <th>주문일자</th>\n",
       "      <th>처리상태</th>\n",
       "      <th>초도상품</th>\n",
       "      <th>제작문구 내역</th>\n",
       "      <th>할부기간</th>\n",
       "      <th>recency</th>\n",
       "      <th>frequency</th>\n",
       "      <th>monetary</th>\n",
       "    </tr>\n",
       "  </thead>\n",
       "  <tbody>\n",
       "    <tr>\n",
       "      <th>130824</th>\n",
       "      <td>220315161716880</td>\n",
       "      <td>테스트</td>\n",
       "      <td>테스트-후불미결제</td>\n",
       "      <td>NaN</td>\n",
       "      <td>8</td>\n",
       "      <td>3200000</td>\n",
       "      <td>-</td>\n",
       "      <td>2022-03-15</td>\n",
       "      <td>상담취소</td>\n",
       "      <td>N</td>\n",
       "      <td>NaN</td>\n",
       "      <td>NaN</td>\n",
       "      <td>3</td>\n",
       "      <td>1</td>\n",
       "      <td>1</td>\n",
       "    </tr>\n",
       "  </tbody>\n",
       "</table>\n",
       "</div>"
      ],
      "text/plain": [
       "                   주문번호  업체명        상품명  제조사  주문수량     판매금액 결제방법         주문일자  \\\n",
       "130824  220315161716880  테스트  테스트-후불미결제  NaN     8  3200000    -  2022-03-15    \n",
       "\n",
       "        처리상태 초도상품 제작문구 내역 할부기간  recency  frequency monetary  \n",
       "130824  상담취소    N     NaN  NaN        3          1        1  "
      ]
     },
     "execution_count": 64,
     "metadata": {},
     "output_type": "execute_result"
    }
   ],
   "source": [
    "below[below['판매금액'] == 3200000]"
   ]
  },
  {
   "cell_type": "markdown",
   "id": "cabcfa74-b01b-418e-bf47-46a87a659ced",
   "metadata": {},
   "source": [
    "### 각 그룹에서 많이 팔린 날은 ?"
   ]
  },
  {
   "cell_type": "code",
   "execution_count": 65,
   "id": "30a3c6ad-f465-4b4c-b350-3c033a425ef4",
   "metadata": {},
   "outputs": [
    {
     "data": {
      "text/plain": [
       "주문일자\n",
       "2022-02-04     3188\n",
       "2020-08-12     1535\n",
       "2022-10-21      829\n",
       "2020-08-13      813\n",
       "2020-12-31      796\n",
       "               ... \n",
       "2020-04-12        2\n",
       "2020-10-02        1\n",
       "2020-10-01        1\n",
       "2019-12-17        1\n",
       "2019-12-13        1\n",
       "Name: count, Length: 1058, dtype: int64"
      ]
     },
     "execution_count": 65,
     "metadata": {},
     "output_type": "execute_result"
    }
   ],
   "source": [
    "billion['주문일자'].value_counts()"
   ]
  },
  {
   "cell_type": "code",
   "execution_count": 66,
   "id": "98cdccba-067c-47fe-9d78-c77de13993e5",
   "metadata": {},
   "outputs": [
    {
     "data": {
      "text/plain": [
       "주문일자\n",
       "2020-04-24     179\n",
       "2022-07-13     168\n",
       "2020-06-12     163\n",
       "2022-03-15     161\n",
       "2020-02-14     145\n",
       "              ... \n",
       "2020-08-22       1\n",
       "2020-07-12       1\n",
       "2020-07-05       1\n",
       "2020-06-20       1\n",
       "2022-11-08       1\n",
       "Name: count, Length: 1012, dtype: int64"
      ]
     },
     "execution_count": 66,
     "metadata": {},
     "output_type": "execute_result"
    }
   ],
   "source": [
    "million['주문일자'].value_counts()"
   ]
  },
  {
   "cell_type": "code",
   "execution_count": 67,
   "id": "ad737737-1f94-452e-acdc-bed108b89f7d",
   "metadata": {},
   "outputs": [
    {
     "data": {
      "text/plain": [
       "주문일자\n",
       "2020-12-29     120\n",
       "2022-11-01      80\n",
       "2022-10-25      75\n",
       "2022-11-02      57\n",
       "2020-12-22      55\n",
       "              ... \n",
       "2021-07-04       1\n",
       "2020-05-08       1\n",
       "2021-07-03       1\n",
       "2020-05-05       1\n",
       "2021-11-02       1\n",
       "Name: count, Length: 689, dtype: int64"
      ]
     },
     "execution_count": 67,
     "metadata": {},
     "output_type": "execute_result"
    }
   ],
   "source": [
    "below['주문일자'].value_counts()"
   ]
  },
  {
   "cell_type": "code",
   "execution_count": null,
   "id": "ffab1e3b-e99f-43b0-b8e8-a5781892ec80",
   "metadata": {},
   "outputs": [],
   "source": []
  }
 ],
 "metadata": {
  "colab": {
   "provenance": [],
   "toc_visible": true
  },
  "kernelspec": {
   "display_name": "Python 3 (ipykernel)",
   "language": "python",
   "name": "python3"
  },
  "language_info": {
   "codemirror_mode": {
    "name": "ipython",
    "version": 3
   },
   "file_extension": ".py",
   "mimetype": "text/x-python",
   "name": "python",
   "nbconvert_exporter": "python",
   "pygments_lexer": "ipython3",
   "version": "3.11.7"
  }
 },
 "nbformat": 4,
 "nbformat_minor": 5
}
