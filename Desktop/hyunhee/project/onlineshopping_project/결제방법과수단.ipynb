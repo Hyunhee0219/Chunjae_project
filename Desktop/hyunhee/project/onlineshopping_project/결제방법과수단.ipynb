{
 "cells": [
  {
   "cell_type": "code",
   "execution_count": 4,
   "id": "6b7f0e6f-5d2f-4c20-8456-0bc9267f9ce7",
   "metadata": {
    "id": "6b7f0e6f-5d2f-4c20-8456-0bc9267f9ce7"
   },
   "outputs": [],
   "source": [
    "import pandas as pd\n",
    "import numpy as np\n",
    "import seaborn as sns\n",
    "import matplotlib.pyplot as plt\n",
    "import matplotlib as mpl\n",
    "import plotly.express as px\n",
    "from sklearn.preprocessing import MinMaxScaler\n",
    "from sklearn.preprocessing import StandardScaler\n",
    "from scipy import stats\n",
    "import matplotlib.font_manager as fm\n",
    "[f.name for f in fm.fontManager.ttflist]\n",
    "plt.rc('font', family ='Malgun Gothic')\n",
    "mpl.rcParams['axes.unicode_minus'] = False\n",
    "# from statannot import add_stat_annotation\n",
    "import plotly.express as px\n",
    "import statsmodels.api as sm\n",
    "from scipy.stats import chi2_contingency"
   ]
  },
  {
   "cell_type": "code",
   "execution_count": 5,
   "id": "f618813d-4e8a-4aae-a47a-aa992aa3f590",
   "metadata": {
    "id": "f618813d-4e8a-4aae-a47a-aa992aa3f590"
   },
   "outputs": [],
   "source": [
    "#파일을 불러옵니다.\n",
    "p = pd.read_excel('../../Downloads/(반출금지) 미니프로젝트-쇼핑몰 실습데이터.xlsx')"
   ]
  },
  {
   "cell_type": "code",
   "execution_count": 6,
   "id": "120171a7-e1f8-402f-81e6-4c993fcb8b5b",
   "metadata": {
    "colab": {
     "base_uri": "https://localhost:8080/",
     "height": 615
    },
    "id": "120171a7-e1f8-402f-81e6-4c993fcb8b5b",
    "outputId": "9b99bac7-dc72-4225-e837-af1fe87a8b14"
   },
   "outputs": [
    {
     "data": {
      "text/html": [
       "<div>\n",
       "<style scoped>\n",
       "    .dataframe tbody tr th:only-of-type {\n",
       "        vertical-align: middle;\n",
       "    }\n",
       "\n",
       "    .dataframe tbody tr th {\n",
       "        vertical-align: top;\n",
       "    }\n",
       "\n",
       "    .dataframe thead th {\n",
       "        text-align: right;\n",
       "    }\n",
       "</style>\n",
       "<table border=\"1\" class=\"dataframe\">\n",
       "  <thead>\n",
       "    <tr style=\"text-align: right;\">\n",
       "      <th></th>\n",
       "      <th>주문번호</th>\n",
       "      <th>업체명</th>\n",
       "      <th>상품명</th>\n",
       "      <th>제조사</th>\n",
       "      <th>주문수량</th>\n",
       "      <th>판매금액</th>\n",
       "      <th>결제방법</th>\n",
       "      <th>주문일자</th>\n",
       "      <th>처리상태</th>\n",
       "      <th>초도상품</th>\n",
       "      <th>제작문구 내역</th>\n",
       "      <th>할부기간</th>\n",
       "    </tr>\n",
       "  </thead>\n",
       "  <tbody>\n",
       "    <tr>\n",
       "      <th>0</th>\n",
       "      <td>191213170236874</td>\n",
       "      <td>지니</td>\n",
       "      <td>eHBM셀파수학교실 비닐봉투-1세트 100장입</td>\n",
       "      <td>HB</td>\n",
       "      <td>1</td>\n",
       "      <td>5000</td>\n",
       "      <td>신용카드</td>\n",
       "      <td>2019-12-13 17:03:37</td>\n",
       "      <td>구매확정</td>\n",
       "      <td>N</td>\n",
       "      <td>NaN</td>\n",
       "      <td>NaN</td>\n",
       "    </tr>\n",
       "    <tr>\n",
       "      <th>1</th>\n",
       "      <td>191216100347429</td>\n",
       "      <td>지니</td>\n",
       "      <td>eHBM셀파수학교실 비닐봉투-1세트 100장입</td>\n",
       "      <td>HB</td>\n",
       "      <td>1</td>\n",
       "      <td>5000</td>\n",
       "      <td>신용카드</td>\n",
       "      <td>2019-12-16 10:04:50</td>\n",
       "      <td>구매확정</td>\n",
       "      <td>N</td>\n",
       "      <td>NaN</td>\n",
       "      <td>NaN</td>\n",
       "    </tr>\n",
       "    <tr>\n",
       "      <th>2</th>\n",
       "      <td>191216100347429</td>\n",
       "      <td>지니</td>\n",
       "      <td>eHBM셀파수학교실 삼색볼펜-1세트 50개입</td>\n",
       "      <td>HB</td>\n",
       "      <td>3</td>\n",
       "      <td>67500</td>\n",
       "      <td>신용카드</td>\n",
       "      <td>2019-12-16 10:04:50</td>\n",
       "      <td>구매확정</td>\n",
       "      <td>N</td>\n",
       "      <td>NaN</td>\n",
       "      <td>NaN</td>\n",
       "    </tr>\n",
       "    <tr>\n",
       "      <th>3</th>\n",
       "      <td>191216173241622</td>\n",
       "      <td>지니</td>\n",
       "      <td>eHBM셀파수학교실 회원용 리플렛-1세트 50권입</td>\n",
       "      <td>HB</td>\n",
       "      <td>2</td>\n",
       "      <td>30000</td>\n",
       "      <td>신용카드</td>\n",
       "      <td>2019-12-16 17:33:43</td>\n",
       "      <td>구매확정</td>\n",
       "      <td>N</td>\n",
       "      <td>NaN</td>\n",
       "      <td>NaN</td>\n",
       "    </tr>\n",
       "    <tr>\n",
       "      <th>4</th>\n",
       "      <td>191216173241622</td>\n",
       "      <td>지니</td>\n",
       "      <td>eHBM셀파수학교실-학습계통도(중등 5종)</td>\n",
       "      <td>HB</td>\n",
       "      <td>1</td>\n",
       "      <td>750</td>\n",
       "      <td>신용카드</td>\n",
       "      <td>2019-12-16 17:33:43</td>\n",
       "      <td>구매확정</td>\n",
       "      <td>N</td>\n",
       "      <td>NaN</td>\n",
       "      <td>NaN</td>\n",
       "    </tr>\n",
       "    <tr>\n",
       "      <th>...</th>\n",
       "      <td>...</td>\n",
       "      <td>...</td>\n",
       "      <td>...</td>\n",
       "      <td>...</td>\n",
       "      <td>...</td>\n",
       "      <td>...</td>\n",
       "      <td>...</td>\n",
       "      <td>...</td>\n",
       "      <td>...</td>\n",
       "      <td>...</td>\n",
       "      <td>...</td>\n",
       "      <td>...</td>\n",
       "    </tr>\n",
       "    <tr>\n",
       "      <th>218596</th>\n",
       "      <td>221108104041264</td>\n",
       "      <td>에이스디포</td>\n",
       "      <td>[스마트 HBE*초도] 입체 액자형 현판</td>\n",
       "      <td>에이스디포</td>\n",
       "      <td>1</td>\n",
       "      <td>35000</td>\n",
       "      <td>웰컴마일</td>\n",
       "      <td>2022-11-08 10:38:21</td>\n",
       "      <td>결제완료</td>\n",
       "      <td>Y</td>\n",
       "      <td>NaN</td>\n",
       "      <td>NaN</td>\n",
       "    </tr>\n",
       "    <tr>\n",
       "      <th>218597</th>\n",
       "      <td>221108104041264</td>\n",
       "      <td>에이스디포</td>\n",
       "      <td>[스마트 HBE*초도] 아크릴 사인</td>\n",
       "      <td>HB</td>\n",
       "      <td>1</td>\n",
       "      <td>26900</td>\n",
       "      <td>웰컴마일</td>\n",
       "      <td>2022-11-08 10:38:21</td>\n",
       "      <td>결제완료</td>\n",
       "      <td>Y</td>\n",
       "      <td>NaN</td>\n",
       "      <td>NaN</td>\n",
       "    </tr>\n",
       "    <tr>\n",
       "      <th>218598</th>\n",
       "      <td>221108104536307</td>\n",
       "      <td>에이스디포</td>\n",
       "      <td>[스마트 HBM] 아크릴 사인</td>\n",
       "      <td>HB</td>\n",
       "      <td>1</td>\n",
       "      <td>26900</td>\n",
       "      <td>신 + 포</td>\n",
       "      <td>2022-11-08 10:43:15</td>\n",
       "      <td>배송준비</td>\n",
       "      <td>N</td>\n",
       "      <td>NaN</td>\n",
       "      <td>NaN</td>\n",
       "    </tr>\n",
       "    <tr>\n",
       "      <th>218599</th>\n",
       "      <td>221108104735216</td>\n",
       "      <td>다우기술</td>\n",
       "      <td>[스타벅스] 아이스 카페 아메리카노 T</td>\n",
       "      <td>스타벅스</td>\n",
       "      <td>1</td>\n",
       "      <td>4050</td>\n",
       "      <td>포인트</td>\n",
       "      <td>2022-11-08 10:45:14</td>\n",
       "      <td>배송완료</td>\n",
       "      <td>N</td>\n",
       "      <td>NaN</td>\n",
       "      <td>NaN</td>\n",
       "    </tr>\n",
       "    <tr>\n",
       "      <th>218600</th>\n",
       "      <td>221108105148171</td>\n",
       "      <td>다우기술</td>\n",
       "      <td>[특별한 크리스마스] 2차-신세계 상품권 모바일 교환권-1만원권</td>\n",
       "      <td>신세계</td>\n",
       "      <td>17</td>\n",
       "      <td>161500</td>\n",
       "      <td>신용카드</td>\n",
       "      <td>2022-11-08 10:49:28</td>\n",
       "      <td>배송완료</td>\n",
       "      <td>N</td>\n",
       "      <td>NaN</td>\n",
       "      <td>NaN</td>\n",
       "    </tr>\n",
       "  </tbody>\n",
       "</table>\n",
       "<p>218601 rows × 12 columns</p>\n",
       "</div>"
      ],
      "text/plain": [
       "                   주문번호    업체명                                  상품명    제조사  \\\n",
       "0       191213170236874     지니            eHBM셀파수학교실 비닐봉투-1세트 100장입     HB   \n",
       "1       191216100347429     지니            eHBM셀파수학교실 비닐봉투-1세트 100장입     HB   \n",
       "2       191216100347429     지니             eHBM셀파수학교실 삼색볼펜-1세트 50개입     HB   \n",
       "3       191216173241622     지니          eHBM셀파수학교실 회원용 리플렛-1세트 50권입     HB   \n",
       "4       191216173241622     지니              eHBM셀파수학교실-학습계통도(중등 5종)     HB   \n",
       "...                 ...    ...                                  ...    ...   \n",
       "218596  221108104041264  에이스디포               [스마트 HBE*초도] 입체 액자형 현판  에이스디포   \n",
       "218597  221108104041264  에이스디포                  [스마트 HBE*초도] 아크릴 사인     HB   \n",
       "218598  221108104536307  에이스디포                     [스마트 HBM] 아크릴 사인     HB   \n",
       "218599  221108104735216   다우기술                [스타벅스] 아이스 카페 아메리카노 T   스타벅스   \n",
       "218600  221108105148171   다우기술  [특별한 크리스마스] 2차-신세계 상품권 모바일 교환권-1만원권    신세계   \n",
       "\n",
       "        주문수량    판매금액   결제방법                주문일자  처리상태 초도상품 제작문구 내역 할부기간  \n",
       "0          1    5000   신용카드 2019-12-13 17:03:37  구매확정    N     NaN  NaN  \n",
       "1          1    5000   신용카드 2019-12-16 10:04:50  구매확정    N     NaN  NaN  \n",
       "2          3   67500   신용카드 2019-12-16 10:04:50  구매확정    N     NaN  NaN  \n",
       "3          2   30000   신용카드 2019-12-16 17:33:43  구매확정    N     NaN  NaN  \n",
       "4          1     750   신용카드 2019-12-16 17:33:43  구매확정    N     NaN  NaN  \n",
       "...      ...     ...    ...                 ...   ...  ...     ...  ...  \n",
       "218596     1   35000   웰컴마일 2022-11-08 10:38:21  결제완료    Y     NaN  NaN  \n",
       "218597     1   26900   웰컴마일 2022-11-08 10:38:21  결제완료    Y     NaN  NaN  \n",
       "218598     1   26900  신 + 포 2022-11-08 10:43:15  배송준비    N     NaN  NaN  \n",
       "218599     1    4050    포인트 2022-11-08 10:45:14  배송완료    N     NaN  NaN  \n",
       "218600    17  161500   신용카드 2022-11-08 10:49:28  배송완료    N     NaN  NaN  \n",
       "\n",
       "[218601 rows x 12 columns]"
      ]
     },
     "execution_count": 6,
     "metadata": {},
     "output_type": "execute_result"
    }
   ],
   "source": [
    "p"
   ]
  },
  {
   "cell_type": "markdown",
   "id": "fbae94cb-1aff-4226-aa37-245735cd4375",
   "metadata": {
    "id": "fbae94cb-1aff-4226-aa37-245735cd4375"
   },
   "source": [
    "## p 파일 데이터 확인 및 분석"
   ]
  },
  {
   "cell_type": "code",
   "execution_count": 7,
   "id": "7df33201-c661-4356-84ba-2f537efdf1ec",
   "metadata": {
    "colab": {
     "base_uri": "https://localhost:8080/"
    },
    "id": "7df33201-c661-4356-84ba-2f537efdf1ec",
    "outputId": "4c1586a8-cda5-4998-a70b-6774351d221e"
   },
   "outputs": [
    {
     "data": {
      "text/plain": [
       "0"
      ]
     },
     "execution_count": 7,
     "metadata": {},
     "output_type": "execute_result"
    }
   ],
   "source": [
    "# 주문수량 nan값 확인\n",
    "p['주문수량'].isna().sum()"
   ]
  },
  {
   "cell_type": "code",
   "execution_count": 8,
   "id": "0bed21b7-c928-432b-b549-f24a5708c7c1",
   "metadata": {
    "colab": {
     "base_uri": "https://localhost:8080/"
    },
    "id": "0bed21b7-c928-432b-b549-f24a5708c7c1",
    "outputId": "eaa3d767-3c3b-4f31-f358-96c207898ad9"
   },
   "outputs": [
    {
     "data": {
      "text/plain": [
       "0"
      ]
     },
     "execution_count": 8,
     "metadata": {},
     "output_type": "execute_result"
    }
   ],
   "source": [
    "p['판매금액'].isna().sum()"
   ]
  },
  {
   "cell_type": "code",
   "execution_count": 9,
   "id": "8a2b82a4-f0f4-4491-8c61-170aa62ab470",
   "metadata": {
    "colab": {
     "base_uri": "https://localhost:8080/"
    },
    "id": "8a2b82a4-f0f4-4491-8c61-170aa62ab470",
    "outputId": "00d19512-731f-428d-bcda-d15db3e14064"
   },
   "outputs": [
    {
     "data": {
      "text/plain": [
       "14"
      ]
     },
     "execution_count": 9,
     "metadata": {},
     "output_type": "execute_result"
    }
   ],
   "source": [
    "p['결제방법'].isna().sum()"
   ]
  },
  {
   "cell_type": "code",
   "execution_count": 10,
   "id": "cff47e5c-3349-43fd-a809-cbec7cce6840",
   "metadata": {
    "colab": {
     "base_uri": "https://localhost:8080/"
    },
    "id": "cff47e5c-3349-43fd-a809-cbec7cce6840",
    "outputId": "f9c7a4a9-5187-40ef-be3e-3b38b327f1fc"
   },
   "outputs": [
    {
     "data": {
      "text/plain": [
       "1927"
      ]
     },
     "execution_count": 10,
     "metadata": {},
     "output_type": "execute_result"
    }
   ],
   "source": [
    "p['할부기간'].notna().sum()"
   ]
  },
  {
   "cell_type": "code",
   "execution_count": 11,
   "id": "2dd1fe5b-c4c8-4c8d-9243-e6c18b06dc4d",
   "metadata": {
    "colab": {
     "base_uri": "https://localhost:8080/"
    },
    "id": "2dd1fe5b-c4c8-4c8d-9243-e6c18b06dc4d",
    "outputId": "a7917012-1b9f-4460-88a7-2f3ddc258bbb"
   },
   "outputs": [
    {
     "data": {
      "text/plain": [
       "0"
      ]
     },
     "execution_count": 11,
     "metadata": {},
     "output_type": "execute_result"
    }
   ],
   "source": [
    "p['처리상태'].isna().sum()"
   ]
  },
  {
   "cell_type": "markdown",
   "id": "b00136eb-da2d-4579-819d-228c197da45e",
   "metadata": {},
   "source": [
    "# 3번 결제 방법에 따른 분석"
   ]
  },
  {
   "cell_type": "code",
   "execution_count": 12,
   "id": "88605451-e740-496d-b2bf-07cc1066f743",
   "metadata": {},
   "outputs": [],
   "source": [
    "s = p.copy()"
   ]
  },
  {
   "cell_type": "code",
   "execution_count": 13,
   "id": "ffa6bcf1-66e3-4609-86c5-e33386bd3a7e",
   "metadata": {
    "id": "ffa6bcf1-66e3-4609-86c5-e33386bd3a7e"
   },
   "outputs": [],
   "source": [
    "#3.a):맨 앞의 한가지만 사용한 방법으로 데이터를 전처리 합니다.\n",
    "replace_map = {\n",
    "    '신 + 포': '신용카드',\n",
    "    '신 + 적 + 포': '신용카드',\n",
    "    '신 + 적': '신용카드',\n",
    "    '신 + 웰컴': '신용카드',\n",
    "    '적 + 포': '적립금',\n",
    "    '후 + 포': '후불',\n",
    "    '후 + 적 + 포': '후불',\n",
    "    '후 + 적': '후불',\n",
    "    '정 + 포': '정기결제',\n",
    "    '정 + 적 + 포': '정기결제',\n",
    "    '정 + 적': '정기결제',\n",
    "    '현 + 적': '현금',\n",
    "    '현 + 포': '현금',\n",
    "    '현 + 적 + 포': '현금',\n",
    "    '무통장입금' : '현금',\n",
    "    '가상계좌' : '현금',\n",
    "    '현금간편결제' : '현금'\n",
    "}\n",
    "# '결제방법' 열의 값을 한 번에 대체합니다.\n",
    "s['결제방법'] = s['결제방법'].replace(replace_map)"
   ]
  },
  {
   "cell_type": "code",
   "execution_count": 14,
   "id": "453d490b-5577-490c-a3f5-a6cbea4bed7d",
   "metadata": {
    "id": "453d490b-5577-490c-a3f5-a6cbea4bed7d"
   },
   "outputs": [],
   "source": [
    "s = s.dropna(subset=['결제방법'])"
   ]
  },
  {
   "cell_type": "code",
   "execution_count": 15,
   "id": "3f9c1215-d83c-48ec-9f60-a6df32feee1f",
   "metadata": {
    "id": "3f9c1215-d83c-48ec-9f60-a6df32feee1f"
   },
   "outputs": [],
   "source": [
    "s = s[~s['결제방법'].isin(['-', ' + 포'])]"
   ]
  },
  {
   "cell_type": "code",
   "execution_count": 16,
   "id": "ccc1e053-52af-4d2e-8f1a-757b7d132ef0",
   "metadata": {
    "colab": {
     "base_uri": "https://localhost:8080/"
    },
    "id": "ccc1e053-52af-4d2e-8f1a-757b7d132ef0",
    "outputId": "815cc07b-604f-476d-f07e-90c81c4fd8e8"
   },
   "outputs": [
    {
     "data": {
      "text/plain": [
       "array(['신용카드', '현금', '후불', '포인트', '적립금', '웰컴마일', '정기결제'], dtype=object)"
      ]
     },
     "execution_count": 16,
     "metadata": {},
     "output_type": "execute_result"
    }
   ],
   "source": [
    "s['결제방법'].unique()"
   ]
  },
  {
   "cell_type": "code",
   "execution_count": 17,
   "id": "32e4b209-0692-4676-858d-a4f8a0cbd016",
   "metadata": {
    "colab": {
     "base_uri": "https://localhost:8080/"
    },
    "id": "32e4b209-0692-4676-858d-a4f8a0cbd016",
    "outputId": "7b12e831-65b3-4d5c-c7ae-b6118547f523"
   },
   "outputs": [
    {
     "data": {
      "text/plain": [
       "600"
      ]
     },
     "execution_count": 17,
     "metadata": {},
     "output_type": "execute_result"
    }
   ],
   "source": [
    "s[s['결제방법'] == '정기결제']['판매금액'].min()"
   ]
  },
  {
   "cell_type": "markdown",
   "id": "8c15e70a-9be9-4ca2-ae2b-619f1c4010d6",
   "metadata": {
    "id": "8c15e70a-9be9-4ca2-ae2b-619f1c4010d6"
   },
   "source": [
    "## 결제방법과 결제금액에 따른 연관성 (boxplot)"
   ]
  },
  {
   "cell_type": "code",
   "execution_count": 18,
   "id": "2695eade-7fc5-4cc4-ae4e-d2150bcb76c8",
   "metadata": {
    "colab": {
     "base_uri": "https://localhost:8080/",
     "height": 1000
    },
    "id": "2695eade-7fc5-4cc4-ae4e-d2150bcb76c8",
    "outputId": "0ea5d8f3-d36e-4531-d56e-e5a859e1a964",
    "scrolled": true
   },
   "outputs": [
    {
     "data": {
      "text/plain": [
       "Text(0, 0.5, '판매금액(단위:천만)')"
      ]
     },
     "execution_count": 18,
     "metadata": {},
     "output_type": "execute_result"
    },
    {
     "data": {
      "image/png": "[encoded data removed]",
      "text/plain": [
       "<Figure size 640x480 with 1 Axes>"
      ]
     },
     "metadata": {},
     "output_type": "display_data"
    }
   ],
   "source": [
    "sns.boxplot(data=s, x='결제방법', y='판매금액')\n",
    "plt.title('결제방법과 결제금액에 따른 연관성')\n",
    "\n",
    "# X축, Y축을 정의합니다.\n",
    "plt.xlabel('결제방법')\n",
    "plt.ylabel('판매금액(단위:천만)')"
   ]
  },
  {
   "cell_type": "code",
   "execution_count": 20,
   "id": "740e5243-ef44-4853-a46d-aafabb95319e",
   "metadata": {},
   "outputs": [],
   "source": [
    "s['log_판매금액'] = np.log1p(s['판매금액'])"
   ]
  },
  {
   "cell_type": "code",
   "execution_count": 22,
   "id": "17198958-942e-41ae-b95f-bf823243af4d",
   "metadata": {},
   "outputs": [
    {
     "data": {
      "image/png": "[encoded data removed]",
      "text/plain": [
       "<Figure size 640x480 with 1 Axes>"
      ]
     },
     "metadata": {},
     "output_type": "display_data"
    }
   ],
   "source": [
    "# 박스플롯 생성\n",
    "sns.boxplot(data=s, x='결제방법', y='log_판매금액', color = 'pink')\n",
    "plt.title('결제방법과 결제금액 (로그 변환)')\n",
    "# X축, Y축을 정의합니다.\n",
    "plt.xlabel('결제방법')\n",
    "plt.ylabel('로그 변환된 판매금액')\n",
    "plt.savefig('logprice.png', bbox_inches='tight')\n",
    "plt.show()"
   ]
  },
  {
   "cell_type": "markdown",
   "id": "e897006d-7986-4658-8d31-3088ab288575",
   "metadata": {
    "id": "e897006d-7986-4658-8d31-3088ab288575"
   },
   "source": [
    "## 카이제곱 검정"
   ]
  },
  {
   "cell_type": "code",
   "execution_count": null,
   "id": "c89b4311-f780-49b3-978b-69c503751af9",
   "metadata": {
    "colab": {
     "base_uri": "https://localhost:8080/"
    },
    "id": "c89b4311-f780-49b3-978b-69c503751af9",
    "outputId": "5243042b-8778-437a-8e40-142f7e7e0c07"
   },
   "outputs": [],
   "source": [
    "# 카이제곱 검정\n",
    "# H0= 결제 방법과 결제금액의 연관성이 없다.\n",
    "chi2_stat, p_val, dof, expected = chi2_contingency(pd.crosstab(s['결제방법'], s['판매금액']))\n",
    "print(\"카이제곱 통계량:\", chi2_stat)\n",
    "print(\"p-value:\", p_val)\n",
    "\n",
    "# p-value가 0.05보다 작으므로, 귀무가설을 기각한다. 따라서 결제 방법과 결제금액의 연관성이 있다."
   ]
  },
  {
   "cell_type": "markdown",
   "id": "c50a59be-6238-4ea4-8054-e4c4eb8eb22f",
   "metadata": {
    "id": "c50a59be-6238-4ea4-8054-e4c4eb8eb22f"
   },
   "source": [
    "PR(>F): 0.0\n",
    "p-value가 0.05보다 작으므로, 결제방법이 판매금액에 유의미한 영향을 미친다고 결론지을 수 있습니다. 실제로 p-value가 0.0이므로, 결제방법과 판매금액 간의 관계가 매우 유의미합니다."
   ]
  },
  {
   "cell_type": "code",
   "execution_count": null,
   "id": "ffab1e3b-e99f-43b0-b8e8-a5781892ec80",
   "metadata": {},
   "outputs": [],
   "source": []
  }
 ],
 "metadata": {
  "colab": {
   "provenance": [],
   "toc_visible": true
  },
  "kernelspec": {
   "display_name": "Python 3 (ipykernel)",
   "language": "python",
   "name": "python3"
  },
  "language_info": {
   "codemirror_mode": {
    "name": "ipython",
    "version": 3
   },
   "file_extension": ".py",
   "mimetype": "text/x-python",
   "name": "python",
   "nbconvert_exporter": "python",
   "pygments_lexer": "ipython3",
   "version": "3.11.7"
  }
 },
 "nbformat": 4,
 "nbformat_minor": 5
}
